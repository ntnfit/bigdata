{
  "nbformat": 4,
  "nbformat_minor": 0,
  "metadata": {
    "colab": {
      "name": "Nguyễn Thanh Nguyên_16035381_bài 4.ipynb",
      "provenance": [],
      "collapsed_sections": [],
      "authorship_tag": "ABX9TyObdhDH6htfiyc1qkn+oII6",
      "include_colab_link": true
    },
    "kernelspec": {
      "name": "python3",
      "display_name": "Python 3"
    }
  },
  "cells": [
    {
      "cell_type": "markdown",
      "metadata": {
        "id": "view-in-github",
        "colab_type": "text"
      },
      "source": [
        "<a href=\"https://colab.research.google.com/github/ntnfit98/bigdata/blob/master/Nguy%E1%BB%85n_Thanh_Nguy%C3%AAn_16035381_b%C3%A0i_4.ipynb\" target=\"_parent\"><img src=\"https://colab.research.google.com/assets/colab-badge.svg\" alt=\"Open In Colab\"/></a>"
      ]
    },
    {
      "cell_type": "code",
      "metadata": {
        "id": "G6DS3JHWWkcF"
      },
      "source": [
        "import math\n",
        "import statistics\n",
        "import numpy as np\n",
        "import scipy.stats\n",
        "import pandas as pd"
      ],
      "execution_count": null,
      "outputs": []
    },
    {
      "cell_type": "code",
      "metadata": {
        "id": "8V-hOl1EW03w"
      },
      "source": [
        "x = [8.0, 1, 2.5, 4, 28.0]"
      ],
      "execution_count": null,
      "outputs": []
    },
    {
      "cell_type": "code",
      "metadata": {
        "id": "eOAdIns-W8l-"
      },
      "source": [
        "x_with_nan = [8.0, 1, 2.5, math.nan, 4, 28.0]"
      ],
      "execution_count": null,
      "outputs": []
    },
    {
      "cell_type": "code",
      "metadata": {
        "id": "XC-0f7-WXBhe",
        "colab": {
          "base_uri": "https://localhost:8080/"
        },
        "outputId": "638c9930-1801-4a89-ab84-257a5805a57f"
      },
      "source": [
        "x"
      ],
      "execution_count": null,
      "outputs": [
        {
          "output_type": "execute_result",
          "data": {
            "text/plain": [
              "[8.0, 1, 2.5, 4, 28.0]"
            ]
          },
          "metadata": {
            "tags": []
          },
          "execution_count": 4
        }
      ]
    },
    {
      "cell_type": "code",
      "metadata": {
        "id": "tuEkElISXC5u",
        "colab": {
          "base_uri": "https://localhost:8080/"
        },
        "outputId": "47c1ec38-49be-4bcd-8543-5fccccaa1ece"
      },
      "source": [
        "x_with_nan"
      ],
      "execution_count": null,
      "outputs": [
        {
          "output_type": "execute_result",
          "data": {
            "text/plain": [
              "[8.0, 1, 2.5, nan, 4, 28.0]"
            ]
          },
          "metadata": {
            "tags": []
          },
          "execution_count": 5
        }
      ]
    },
    {
      "cell_type": "code",
      "metadata": {
        "id": "yAxEi6cbXGqm",
        "colab": {
          "base_uri": "https://localhost:8080/"
        },
        "outputId": "4772c15a-afe7-421f-d2d1-1b1bb01e6408"
      },
      "source": [
        "math.isnan(np.nan), np.isnan(math.nan)"
      ],
      "execution_count": null,
      "outputs": [
        {
          "output_type": "execute_result",
          "data": {
            "text/plain": [
              "(True, True)"
            ]
          },
          "metadata": {
            "tags": []
          },
          "execution_count": 6
        }
      ]
    },
    {
      "cell_type": "code",
      "metadata": {
        "id": "AF4dEOIuXdKW"
      },
      "source": [
        "y, y_with_nan = np.array(x), np.array(x_with_nan)"
      ],
      "execution_count": null,
      "outputs": []
    },
    {
      "cell_type": "code",
      "metadata": {
        "id": "gh9KJ-_lXM6O",
        "colab": {
          "base_uri": "https://localhost:8080/"
        },
        "outputId": "2a744d7e-f158-4855-d19a-25740b71fec9"
      },
      "source": [
        "math.isnan(y_with_nan[3]), np.isnan(y_with_nan[3])"
      ],
      "execution_count": null,
      "outputs": [
        {
          "output_type": "execute_result",
          "data": {
            "text/plain": [
              "(True, True)"
            ]
          },
          "metadata": {
            "tags": []
          },
          "execution_count": 10
        }
      ]
    },
    {
      "cell_type": "code",
      "metadata": {
        "id": "t4O17L6jXNg2"
      },
      "source": [
        " z, z_with_nan = pd.Series(x), pd.Series(x_with_nan)"
      ],
      "execution_count": null,
      "outputs": []
    },
    {
      "cell_type": "code",
      "metadata": {
        "id": "5Kfp7AVgXjQ1",
        "colab": {
          "base_uri": "https://localhost:8080/"
        },
        "outputId": "7f47e4c2-11b6-4f3c-b1ff-e08732991f47"
      },
      "source": [
        "y"
      ],
      "execution_count": null,
      "outputs": [
        {
          "output_type": "execute_result",
          "data": {
            "text/plain": [
              "array([ 8. ,  1. ,  2.5,  4. , 28. ])"
            ]
          },
          "metadata": {
            "tags": []
          },
          "execution_count": 12
        }
      ]
    },
    {
      "cell_type": "code",
      "metadata": {
        "id": "eWCR6RAsXkPl",
        "colab": {
          "base_uri": "https://localhost:8080/"
        },
        "outputId": "852ec5e5-3ed3-4ef1-b4d4-ea383807e4f6"
      },
      "source": [
        "y_with_nan"
      ],
      "execution_count": null,
      "outputs": [
        {
          "output_type": "execute_result",
          "data": {
            "text/plain": [
              "array([ 8. ,  1. ,  2.5,  nan,  4. , 28. ])"
            ]
          },
          "metadata": {
            "tags": []
          },
          "execution_count": 13
        }
      ]
    },
    {
      "cell_type": "code",
      "metadata": {
        "id": "lpJU7aaPXm3l",
        "colab": {
          "base_uri": "https://localhost:8080/"
        },
        "outputId": "48ba9981-2e6f-48c4-8720-5057964397f8"
      },
      "source": [
        "z"
      ],
      "execution_count": null,
      "outputs": [
        {
          "output_type": "execute_result",
          "data": {
            "text/plain": [
              "0     8.0\n",
              "1     1.0\n",
              "2     2.5\n",
              "3     4.0\n",
              "4    28.0\n",
              "dtype: float64"
            ]
          },
          "metadata": {
            "tags": []
          },
          "execution_count": 14
        }
      ]
    },
    {
      "cell_type": "code",
      "metadata": {
        "id": "w-79zbvmXnuV",
        "colab": {
          "base_uri": "https://localhost:8080/"
        },
        "outputId": "a3650f50-9a4b-407a-dd62-7c2156314c55"
      },
      "source": [
        "z_with_nan"
      ],
      "execution_count": null,
      "outputs": [
        {
          "output_type": "execute_result",
          "data": {
            "text/plain": [
              "0     8.0\n",
              "1     1.0\n",
              "2     2.5\n",
              "3     NaN\n",
              "4     4.0\n",
              "5    28.0\n",
              "dtype: float64"
            ]
          },
          "metadata": {
            "tags": []
          },
          "execution_count": 15
        }
      ]
    },
    {
      "cell_type": "code",
      "metadata": {
        "id": "7XkJ9a1aXp1t"
      },
      "source": [
        "mean_ = sum(x) / len(x)"
      ],
      "execution_count": null,
      "outputs": []
    },
    {
      "cell_type": "code",
      "metadata": {
        "id": "bgPiEwZqXwbm",
        "colab": {
          "base_uri": "https://localhost:8080/"
        },
        "outputId": "b9f847cd-9465-439c-8c63-38bc9e3885ad"
      },
      "source": [
        "mean_"
      ],
      "execution_count": null,
      "outputs": [
        {
          "output_type": "execute_result",
          "data": {
            "text/plain": [
              "8.7"
            ]
          },
          "metadata": {
            "tags": []
          },
          "execution_count": 18
        }
      ]
    },
    {
      "cell_type": "code",
      "metadata": {
        "id": "VF6r1tdwXzDu"
      },
      "source": [
        "mean_ = statistics.mean(x)"
      ],
      "execution_count": null,
      "outputs": []
    },
    {
      "cell_type": "code",
      "metadata": {
        "id": "_C3rGpLpX2YW",
        "colab": {
          "base_uri": "https://localhost:8080/"
        },
        "outputId": "2e00157c-b060-4c17-a2cf-e4476e92ab68"
      },
      "source": [
        "mean_"
      ],
      "execution_count": null,
      "outputs": [
        {
          "output_type": "execute_result",
          "data": {
            "text/plain": [
              "8.7"
            ]
          },
          "metadata": {
            "tags": []
          },
          "execution_count": 20
        }
      ]
    },
    {
      "cell_type": "code",
      "metadata": {
        "id": "92YGwxarY8oV"
      },
      "source": [
        "mean_ = statistics.mean(x_with_nan)"
      ],
      "execution_count": null,
      "outputs": []
    },
    {
      "cell_type": "code",
      "metadata": {
        "id": "fWBdKefHZAG3",
        "colab": {
          "base_uri": "https://localhost:8080/"
        },
        "outputId": "5df7e134-33b9-41d3-dbad-3902f5b8d8a9"
      },
      "source": [
        " mean_"
      ],
      "execution_count": null,
      "outputs": [
        {
          "output_type": "execute_result",
          "data": {
            "text/plain": [
              "nan"
            ]
          },
          "metadata": {
            "tags": []
          },
          "execution_count": 27
        }
      ]
    },
    {
      "cell_type": "code",
      "metadata": {
        "id": "ai6cs9TsZWat"
      },
      "source": [
        " mean_ = np.mean(y)"
      ],
      "execution_count": null,
      "outputs": []
    },
    {
      "cell_type": "code",
      "metadata": {
        "id": "sC5LBFI3ZX4O",
        "colab": {
          "base_uri": "https://localhost:8080/"
        },
        "outputId": "87dbce84-7aa3-4ad9-a02a-c2de21816ebd"
      },
      "source": [
        "mean_"
      ],
      "execution_count": null,
      "outputs": [
        {
          "output_type": "execute_result",
          "data": {
            "text/plain": [
              "8.7"
            ]
          },
          "metadata": {
            "tags": []
          },
          "execution_count": 29
        }
      ]
    },
    {
      "cell_type": "code",
      "metadata": {
        "id": "4wsxqvvmZZht"
      },
      "source": [
        "mean_ = y.mean()"
      ],
      "execution_count": null,
      "outputs": []
    },
    {
      "cell_type": "code",
      "metadata": {
        "id": "_qw03HlGZv4d",
        "colab": {
          "base_uri": "https://localhost:8080/"
        },
        "outputId": "fd171519-aa14-456b-a4a7-9a9f9df8056b"
      },
      "source": [
        "mean_"
      ],
      "execution_count": null,
      "outputs": [
        {
          "output_type": "execute_result",
          "data": {
            "text/plain": [
              "8.7"
            ]
          },
          "metadata": {
            "tags": []
          },
          "execution_count": 32
        }
      ]
    },
    {
      "cell_type": "code",
      "metadata": {
        "id": "4uCcc3xlZx7l",
        "colab": {
          "base_uri": "https://localhost:8080/"
        },
        "outputId": "80bf889a-fd05-433a-97a2-8eaffd1e6156"
      },
      "source": [
        " np.mean(y_with_nan)"
      ],
      "execution_count": null,
      "outputs": [
        {
          "output_type": "execute_result",
          "data": {
            "text/plain": [
              "nan"
            ]
          },
          "metadata": {
            "tags": []
          },
          "execution_count": 33
        }
      ]
    },
    {
      "cell_type": "code",
      "metadata": {
        "id": "G0aUZX-VZ0DF",
        "colab": {
          "base_uri": "https://localhost:8080/"
        },
        "outputId": "cbf2b05b-a34a-4da3-a885-1498e3bc000e"
      },
      "source": [
        "y_with_nan.mean()"
      ],
      "execution_count": null,
      "outputs": [
        {
          "output_type": "execute_result",
          "data": {
            "text/plain": [
              "nan"
            ]
          },
          "metadata": {
            "tags": []
          },
          "execution_count": 34
        }
      ]
    },
    {
      "cell_type": "code",
      "metadata": {
        "id": "1o1dSPNzZ2GV",
        "colab": {
          "base_uri": "https://localhost:8080/"
        },
        "outputId": "1d788c70-78fe-4558-8930-c281a6da06d6"
      },
      "source": [
        "np.nanmean(y_with_nan)"
      ],
      "execution_count": null,
      "outputs": [
        {
          "output_type": "execute_result",
          "data": {
            "text/plain": [
              "8.7"
            ]
          },
          "metadata": {
            "tags": []
          },
          "execution_count": 35
        }
      ]
    },
    {
      "cell_type": "code",
      "metadata": {
        "id": "GOXMFELTZ5Ll"
      },
      "source": [
        "mean_ = z.mean()"
      ],
      "execution_count": null,
      "outputs": []
    },
    {
      "cell_type": "code",
      "metadata": {
        "id": "RRgJiqX_Z6B_",
        "colab": {
          "base_uri": "https://localhost:8080/"
        },
        "outputId": "bd48d8a0-79a1-4ebc-a45a-802faec3feaf"
      },
      "source": [
        "mean_"
      ],
      "execution_count": null,
      "outputs": [
        {
          "output_type": "execute_result",
          "data": {
            "text/plain": [
              "8.7"
            ]
          },
          "metadata": {
            "tags": []
          },
          "execution_count": 37
        }
      ]
    },
    {
      "cell_type": "code",
      "metadata": {
        "id": "LDnWmirJZ8PN",
        "colab": {
          "base_uri": "https://localhost:8080/"
        },
        "outputId": "aeb6fdb3-a115-424b-d1b9-677c35ce099f"
      },
      "source": [
        "z_with_nan.mean()"
      ],
      "execution_count": null,
      "outputs": [
        {
          "output_type": "execute_result",
          "data": {
            "text/plain": [
              "8.7"
            ]
          },
          "metadata": {
            "tags": []
          },
          "execution_count": 38
        }
      ]
    },
    {
      "cell_type": "code",
      "metadata": {
        "id": "I1Xex1VPZ-id",
        "colab": {
          "base_uri": "https://localhost:8080/"
        },
        "outputId": "ea72015a-73f7-4ed0-ad68-b0f7f416bbba"
      },
      "source": [
        " 0.2 * 2 + 0.5 * 4 + 0.3 * 8"
      ],
      "execution_count": null,
      "outputs": [
        {
          "output_type": "execute_result",
          "data": {
            "text/plain": [
              "4.8"
            ]
          },
          "metadata": {
            "tags": []
          },
          "execution_count": 39
        }
      ]
    },
    {
      "cell_type": "code",
      "metadata": {
        "id": "KMfzYtEXaBNv",
        "colab": {
          "base_uri": "https://localhost:8080/"
        },
        "outputId": "c38e8ad4-0a0f-462e-a67b-1c0b04ffd222"
      },
      "source": [
        "x = [8.0, 1, 2.5, 4, 28.0]\n",
        "w = [0.1, 0.2, 0.3, 0.25, 0.15]\n",
        "wmean = sum(w[i] * x[i] for i in range(len(x))) / sum(w)\n",
        "wmean"
      ],
      "execution_count": null,
      "outputs": [
        {
          "output_type": "execute_result",
          "data": {
            "text/plain": [
              "6.95"
            ]
          },
          "metadata": {
            "tags": []
          },
          "execution_count": 40
        }
      ]
    },
    {
      "cell_type": "code",
      "metadata": {
        "id": "S38UGKvVaSr3",
        "colab": {
          "base_uri": "https://localhost:8080/"
        },
        "outputId": "e8bcc159-14cb-4b27-a1ca-bf8c4d3295a8"
      },
      "source": [
        "wmean = sum(x_ * w_ for (x_, w_) in zip(x, w)) / sum(w)\n",
        "wmean"
      ],
      "execution_count": null,
      "outputs": [
        {
          "output_type": "execute_result",
          "data": {
            "text/plain": [
              "6.95"
            ]
          },
          "metadata": {
            "tags": []
          },
          "execution_count": 42
        }
      ]
    },
    {
      "cell_type": "code",
      "metadata": {
        "id": "D32nGAsgaDY-",
        "colab": {
          "base_uri": "https://localhost:8080/"
        },
        "outputId": "ad6a4de0-27db-4e41-83f5-7aa151c893e1"
      },
      "source": [
        "y, z, w = np.array(x), pd.Series(x), np.array(w)\n",
        "wmean = np.average(y, weights=w)\n",
        "wmean"
      ],
      "execution_count": null,
      "outputs": [
        {
          "output_type": "execute_result",
          "data": {
            "text/plain": [
              "6.95"
            ]
          },
          "metadata": {
            "tags": []
          },
          "execution_count": 43
        }
      ]
    },
    {
      "cell_type": "code",
      "metadata": {
        "id": "xomcBrzraX3k",
        "colab": {
          "base_uri": "https://localhost:8080/"
        },
        "outputId": "56342fa7-0aa7-4a6d-9d0c-47db9f7f123e"
      },
      "source": [
        "wmean = np.average(z, weights=w)\n",
        "wmean"
      ],
      "execution_count": null,
      "outputs": [
        {
          "output_type": "execute_result",
          "data": {
            "text/plain": [
              "6.95"
            ]
          },
          "metadata": {
            "tags": []
          },
          "execution_count": 44
        }
      ]
    },
    {
      "cell_type": "code",
      "metadata": {
        "id": "6oTw6tbxaabG",
        "colab": {
          "base_uri": "https://localhost:8080/"
        },
        "outputId": "f09c50ca-f283-4172-cd57-5e730bd8cd37"
      },
      "source": [
        "(w * y).sum() / w.sum()"
      ],
      "execution_count": null,
      "outputs": [
        {
          "output_type": "execute_result",
          "data": {
            "text/plain": [
              "6.95"
            ]
          },
          "metadata": {
            "tags": []
          },
          "execution_count": 45
        }
      ]
    },
    {
      "cell_type": "code",
      "metadata": {
        "id": "5eC0mHnnac9m",
        "colab": {
          "base_uri": "https://localhost:8080/"
        },
        "outputId": "937b1688-8996-46cb-aa03-cf6b40e9992e"
      },
      "source": [
        "w = np.array([0.1, 0.2, 0.3, 0.0, 0.2, 0.1])\n",
        "(w * y_with_nan).sum() / w.sum()"
      ],
      "execution_count": null,
      "outputs": [
        {
          "output_type": "execute_result",
          "data": {
            "text/plain": [
              "nan"
            ]
          },
          "metadata": {
            "tags": []
          },
          "execution_count": 46
        }
      ]
    },
    {
      "cell_type": "code",
      "metadata": {
        "id": "aaSH6e5MafXm",
        "colab": {
          "base_uri": "https://localhost:8080/"
        },
        "outputId": "e58bb9d6-0c37-41ac-fdd5-8fa6e9bdc04c"
      },
      "source": [
        "np.average(y_with_nan, weights=w)"
      ],
      "execution_count": null,
      "outputs": [
        {
          "output_type": "execute_result",
          "data": {
            "text/plain": [
              "nan"
            ]
          },
          "metadata": {
            "tags": []
          },
          "execution_count": 47
        }
      ]
    },
    {
      "cell_type": "code",
      "metadata": {
        "id": "DOmJ00Dlamrm",
        "colab": {
          "base_uri": "https://localhost:8080/"
        },
        "outputId": "56ea081b-45c8-4d38-cbcc-085da04854c9"
      },
      "source": [
        "np.average(z_with_nan, weights=w)"
      ],
      "execution_count": null,
      "outputs": [
        {
          "output_type": "execute_result",
          "data": {
            "text/plain": [
              "nan"
            ]
          },
          "metadata": {
            "tags": []
          },
          "execution_count": 48
        }
      ]
    },
    {
      "cell_type": "code",
      "metadata": {
        "id": "bQ9q7cscaoiG"
      },
      "source": [
        "hmean = len(x) / sum(1 / item for item in x)"
      ],
      "execution_count": null,
      "outputs": []
    },
    {
      "cell_type": "code",
      "metadata": {
        "id": "aJfhcG1YaqCt",
        "colab": {
          "base_uri": "https://localhost:8080/"
        },
        "outputId": "1791464f-648d-4049-b57a-583e9054f78c"
      },
      "source": [
        "hmean"
      ],
      "execution_count": null,
      "outputs": [
        {
          "output_type": "execute_result",
          "data": {
            "text/plain": [
              "2.7613412228796843"
            ]
          },
          "metadata": {
            "tags": []
          },
          "execution_count": 50
        }
      ]
    },
    {
      "cell_type": "code",
      "metadata": {
        "id": "i9HOnVyTawcW",
        "colab": {
          "base_uri": "https://localhost:8080/"
        },
        "outputId": "18ed5444-d184-4675-d428-9e0b20e9b30c"
      },
      "source": [
        "hmean = statistics.harmonic_mean(x)\n",
        "hmean"
      ],
      "execution_count": null,
      "outputs": [
        {
          "output_type": "execute_result",
          "data": {
            "text/plain": [
              "2.7613412228796843"
            ]
          },
          "metadata": {
            "tags": []
          },
          "execution_count": 51
        }
      ]
    },
    {
      "cell_type": "code",
      "metadata": {
        "id": "up4bYNvOa-_F",
        "colab": {
          "base_uri": "https://localhost:8080/"
        },
        "outputId": "200b31bf-5b2a-4dac-99d0-1281db78da42"
      },
      "source": [
        "statistics.harmonic_mean(x_with_nan)"
      ],
      "execution_count": null,
      "outputs": [
        {
          "output_type": "execute_result",
          "data": {
            "text/plain": [
              "nan"
            ]
          },
          "metadata": {
            "tags": []
          },
          "execution_count": 52
        }
      ]
    },
    {
      "cell_type": "code",
      "metadata": {
        "id": "zJRNSxGzbBvt",
        "colab": {
          "base_uri": "https://localhost:8080/"
        },
        "outputId": "087cb6c7-bec4-4618-8882-5434ebd96339"
      },
      "source": [
        "statistics.harmonic_mean(y_with_nan)"
      ],
      "execution_count": null,
      "outputs": [
        {
          "output_type": "execute_result",
          "data": {
            "text/plain": [
              "nan"
            ]
          },
          "metadata": {
            "tags": []
          },
          "execution_count": 53
        }
      ]
    },
    {
      "cell_type": "code",
      "metadata": {
        "id": "rS4Sy770bMMm",
        "colab": {
          "base_uri": "https://localhost:8080/"
        },
        "outputId": "50f32159-759d-4c35-89e6-23b7c6b1b56a"
      },
      "source": [
        "scipy.stats.hmean(y)"
      ],
      "execution_count": null,
      "outputs": [
        {
          "output_type": "execute_result",
          "data": {
            "text/plain": [
              "2.7613412228796843"
            ]
          },
          "metadata": {
            "tags": []
          },
          "execution_count": 55
        }
      ]
    },
    {
      "cell_type": "code",
      "metadata": {
        "id": "S6ZvSJp7bQzl",
        "colab": {
          "base_uri": "https://localhost:8080/"
        },
        "outputId": "48ccfcbc-38cd-4d5b-fa60-3e8dafe94118"
      },
      "source": [
        "scipy.stats.hmean(z)"
      ],
      "execution_count": null,
      "outputs": [
        {
          "output_type": "execute_result",
          "data": {
            "text/plain": [
              "2.7613412228796843"
            ]
          },
          "metadata": {
            "tags": []
          },
          "execution_count": 56
        }
      ]
    },
    {
      "cell_type": "code",
      "metadata": {
        "id": "O8A8zcLObY6F"
      },
      "source": [
        "gmean = 1\n"
      ],
      "execution_count": null,
      "outputs": []
    },
    {
      "cell_type": "code",
      "metadata": {
        "id": "LJA90wAfbmj8"
      },
      "source": [
        "for item in x:\n",
        "  gmean *= item\n",
        " "
      ],
      "execution_count": null,
      "outputs": []
    },
    {
      "cell_type": "code",
      "metadata": {
        "id": "cd4eG6z9b_wQ"
      },
      "source": [
        " gmean **= 1 / len(x)"
      ],
      "execution_count": null,
      "outputs": []
    },
    {
      "cell_type": "code",
      "metadata": {
        "id": "dpqBaxcvcG2u",
        "colab": {
          "base_uri": "https://localhost:8080/"
        },
        "outputId": "a49fddc4-a946-460f-a66b-8b6cf8c39157"
      },
      "source": [
        "gmean"
      ],
      "execution_count": null,
      "outputs": [
        {
          "output_type": "execute_result",
          "data": {
            "text/plain": [
              "4.677885674856041"
            ]
          },
          "metadata": {
            "tags": []
          },
          "execution_count": 69
        }
      ]
    },
    {
      "cell_type": "code",
      "metadata": {
        "id": "cTHvLnhBcT6E",
        "colab": {
          "base_uri": "https://localhost:8080/"
        },
        "outputId": "b75ffb1d-c35e-4450-da73-9b9fe1afed05"
      },
      "source": [
        "scipy.stats.gmean(y)"
      ],
      "execution_count": null,
      "outputs": [
        {
          "output_type": "execute_result",
          "data": {
            "text/plain": [
              "4.67788567485604"
            ]
          },
          "metadata": {
            "tags": []
          },
          "execution_count": 71
        }
      ]
    },
    {
      "cell_type": "code",
      "metadata": {
        "id": "E-WvvpYUcVMv",
        "colab": {
          "base_uri": "https://localhost:8080/"
        },
        "outputId": "7977f783-d11f-4771-ff36-7d3d15ed5031"
      },
      "source": [
        "scipy.stats.gmean(z)"
      ],
      "execution_count": null,
      "outputs": [
        {
          "output_type": "execute_result",
          "data": {
            "text/plain": [
              "4.67788567485604"
            ]
          },
          "metadata": {
            "tags": []
          },
          "execution_count": 72
        }
      ]
    },
    {
      "cell_type": "code",
      "metadata": {
        "id": "rSNLf4vqcYWI"
      },
      "source": [
        "n = len(x)"
      ],
      "execution_count": null,
      "outputs": []
    },
    {
      "cell_type": "code",
      "metadata": {
        "id": "ZMpSWLx4cZTl"
      },
      "source": [
        "if n % 2:\n",
        "  median_ = sorted(x)[round(0.5*(n-1))]\n",
        "else:\n",
        "    x_ord, index = sorted(x), round(0.5 * n)\n",
        "    median_ = 0.5 * (x_ord[index-1] + x_ord[index])"
      ],
      "execution_count": null,
      "outputs": []
    },
    {
      "cell_type": "code",
      "metadata": {
        "id": "nNeFIV-LciS0",
        "colab": {
          "base_uri": "https://localhost:8080/"
        },
        "outputId": "d0fa1739-c151-49f3-f46e-ac94af84631f"
      },
      "source": [
        "median_"
      ],
      "execution_count": null,
      "outputs": [
        {
          "output_type": "execute_result",
          "data": {
            "text/plain": [
              "4"
            ]
          },
          "metadata": {
            "tags": []
          },
          "execution_count": 76
        }
      ]
    },
    {
      "cell_type": "code",
      "metadata": {
        "id": "m7CTgMy6ckOl"
      },
      "source": [
        "median_ = statistics.median(x)"
      ],
      "execution_count": null,
      "outputs": []
    },
    {
      "cell_type": "code",
      "metadata": {
        "id": "xNGkIKprcmqk",
        "colab": {
          "base_uri": "https://localhost:8080/"
        },
        "outputId": "4299b397-35ee-4e2c-da69-b160c3806188"
      },
      "source": [
        "median_"
      ],
      "execution_count": null,
      "outputs": [
        {
          "output_type": "execute_result",
          "data": {
            "text/plain": [
              "4"
            ]
          },
          "metadata": {
            "tags": []
          },
          "execution_count": 79
        }
      ]
    },
    {
      "cell_type": "code",
      "metadata": {
        "id": "TpTBrKpTcoyc"
      },
      "source": [
        "median_ = statistics.median(x[:-1])"
      ],
      "execution_count": null,
      "outputs": []
    },
    {
      "cell_type": "code",
      "metadata": {
        "id": "lbcTtHEncqU6",
        "colab": {
          "base_uri": "https://localhost:8080/"
        },
        "outputId": "f6029599-1947-4850-9bc5-ad6adc2a084d"
      },
      "source": [
        "median_"
      ],
      "execution_count": null,
      "outputs": [
        {
          "output_type": "execute_result",
          "data": {
            "text/plain": [
              "3.25"
            ]
          },
          "metadata": {
            "tags": []
          },
          "execution_count": 81
        }
      ]
    },
    {
      "cell_type": "code",
      "metadata": {
        "id": "nQKyJ5W0csdu",
        "colab": {
          "base_uri": "https://localhost:8080/"
        },
        "outputId": "9b9e6711-ea0b-48ef-e047-0ac5f8609146"
      },
      "source": [
        "statistics.median_low(x[:-1])"
      ],
      "execution_count": null,
      "outputs": [
        {
          "output_type": "execute_result",
          "data": {
            "text/plain": [
              "2.5"
            ]
          },
          "metadata": {
            "tags": []
          },
          "execution_count": 82
        }
      ]
    },
    {
      "cell_type": "code",
      "metadata": {
        "id": "Kp1XUys4cuo9",
        "colab": {
          "base_uri": "https://localhost:8080/"
        },
        "outputId": "c76f7afa-c35b-4626-f878-da5090321445"
      },
      "source": [
        "statistics.median_high(x[:-1])"
      ],
      "execution_count": null,
      "outputs": [
        {
          "output_type": "execute_result",
          "data": {
            "text/plain": [
              "4"
            ]
          },
          "metadata": {
            "tags": []
          },
          "execution_count": 83
        }
      ]
    },
    {
      "cell_type": "code",
      "metadata": {
        "id": "U-wixlQAcwmG",
        "colab": {
          "base_uri": "https://localhost:8080/"
        },
        "outputId": "47ef3267-02dd-4a12-cfff-6008b9bfd7e0"
      },
      "source": [
        "statistics.median(x_with_nan)"
      ],
      "execution_count": null,
      "outputs": [
        {
          "output_type": "execute_result",
          "data": {
            "text/plain": [
              "6.0"
            ]
          },
          "metadata": {
            "tags": []
          },
          "execution_count": 84
        }
      ]
    },
    {
      "cell_type": "code",
      "metadata": {
        "id": "t-YFok3Ncyle",
        "colab": {
          "base_uri": "https://localhost:8080/"
        },
        "outputId": "9c7b0892-76f2-470c-dd58-4a0c24ce7c79"
      },
      "source": [
        "statistics.median_low(x_with_nan)"
      ],
      "execution_count": null,
      "outputs": [
        {
          "output_type": "execute_result",
          "data": {
            "text/plain": [
              "4"
            ]
          },
          "metadata": {
            "tags": []
          },
          "execution_count": 85
        }
      ]
    },
    {
      "cell_type": "code",
      "metadata": {
        "id": "UTGUWRXKc0Re",
        "colab": {
          "base_uri": "https://localhost:8080/"
        },
        "outputId": "cd52d2d0-660c-44c0-dd8e-177b96d7f939"
      },
      "source": [
        "statistics.median_high(x_with_nan)"
      ],
      "execution_count": null,
      "outputs": [
        {
          "output_type": "execute_result",
          "data": {
            "text/plain": [
              "8.0"
            ]
          },
          "metadata": {
            "tags": []
          },
          "execution_count": 86
        }
      ]
    },
    {
      "cell_type": "code",
      "metadata": {
        "id": "wr-sPFm3c1PA",
        "colab": {
          "base_uri": "https://localhost:8080/"
        },
        "outputId": "c19b93bf-1f64-4f00-8591-052f72c1b686"
      },
      "source": [
        "median_ = np.median(y)\n",
        "median_"
      ],
      "execution_count": null,
      "outputs": [
        {
          "output_type": "execute_result",
          "data": {
            "text/plain": [
              "4.0"
            ]
          },
          "metadata": {
            "tags": []
          },
          "execution_count": 87
        }
      ]
    },
    {
      "cell_type": "code",
      "metadata": {
        "id": "s-bw_W5Pc3_d",
        "colab": {
          "base_uri": "https://localhost:8080/"
        },
        "outputId": "0be448e6-c335-4b18-ac79-105d52078a0c"
      },
      "source": [
        "median_ = np.median(y[:-1])\n",
        "median_"
      ],
      "execution_count": null,
      "outputs": [
        {
          "output_type": "execute_result",
          "data": {
            "text/plain": [
              "3.25"
            ]
          },
          "metadata": {
            "tags": []
          },
          "execution_count": 88
        }
      ]
    },
    {
      "cell_type": "code",
      "metadata": {
        "id": "ZoKwUmYHc87N",
        "colab": {
          "base_uri": "https://localhost:8080/"
        },
        "outputId": "bc6f673e-3450-4df8-a34f-80df27657bf7"
      },
      "source": [
        "np.nanmedian(y_with_nan)"
      ],
      "execution_count": null,
      "outputs": [
        {
          "output_type": "execute_result",
          "data": {
            "text/plain": [
              "4.0"
            ]
          },
          "metadata": {
            "tags": []
          },
          "execution_count": 89
        }
      ]
    },
    {
      "cell_type": "code",
      "metadata": {
        "id": "1H_9WH00c-eO",
        "colab": {
          "base_uri": "https://localhost:8080/"
        },
        "outputId": "2596e44f-38a8-4b35-deac-826632f2041e"
      },
      "source": [
        "np.nanmedian(y_with_nan[:-1])"
      ],
      "execution_count": null,
      "outputs": [
        {
          "output_type": "execute_result",
          "data": {
            "text/plain": [
              "3.25"
            ]
          },
          "metadata": {
            "tags": []
          },
          "execution_count": 90
        }
      ]
    },
    {
      "cell_type": "code",
      "metadata": {
        "id": "xT2U18ICc__u",
        "colab": {
          "base_uri": "https://localhost:8080/"
        },
        "outputId": "ec01915f-216b-4fb5-c752-ece301054440"
      },
      "source": [
        "z.median()"
      ],
      "execution_count": null,
      "outputs": [
        {
          "output_type": "execute_result",
          "data": {
            "text/plain": [
              "4.0"
            ]
          },
          "metadata": {
            "tags": []
          },
          "execution_count": 91
        }
      ]
    },
    {
      "cell_type": "code",
      "metadata": {
        "id": "Qhd4dj0kdBYO",
        "colab": {
          "base_uri": "https://localhost:8080/"
        },
        "outputId": "42c76d21-9c16-4525-8d23-836ba9953a74"
      },
      "source": [
        "z_with_nan.median()"
      ],
      "execution_count": null,
      "outputs": [
        {
          "output_type": "execute_result",
          "data": {
            "text/plain": [
              "4.0"
            ]
          },
          "metadata": {
            "tags": []
          },
          "execution_count": 92
        }
      ]
    },
    {
      "cell_type": "code",
      "metadata": {
        "id": "GhvNUPEcdC7V"
      },
      "source": [
        "u = [2, 3, 2, 8, 12]"
      ],
      "execution_count": null,
      "outputs": []
    },
    {
      "cell_type": "code",
      "metadata": {
        "id": "hXS_QBVEdEYm"
      },
      "source": [
        "mode_ = max((u.count(item), item) for item in set(u))[1]"
      ],
      "execution_count": null,
      "outputs": []
    },
    {
      "cell_type": "code",
      "metadata": {
        "id": "bFFmfpCMdF6H",
        "colab": {
          "base_uri": "https://localhost:8080/"
        },
        "outputId": "ea141475-73b9-495d-ea9c-c656f5f37458"
      },
      "source": [
        "mode_"
      ],
      "execution_count": null,
      "outputs": [
        {
          "output_type": "execute_result",
          "data": {
            "text/plain": [
              "2"
            ]
          },
          "metadata": {
            "tags": []
          },
          "execution_count": 95
        }
      ]
    },
    {
      "cell_type": "code",
      "metadata": {
        "id": "kxu4YMpRdHTA"
      },
      "source": [
        "mode_ = statistics.mode(u)"
      ],
      "execution_count": null,
      "outputs": []
    },
    {
      "cell_type": "code",
      "metadata": {
        "id": "VDaxkPdrdb_b",
        "colab": {
          "base_uri": "https://localhost:8080/"
        },
        "outputId": "5f2160b4-835c-4fde-bb4e-049ff11f7ef2"
      },
      "source": [
        "mode_"
      ],
      "execution_count": null,
      "outputs": [
        {
          "output_type": "execute_result",
          "data": {
            "text/plain": [
              "2"
            ]
          },
          "metadata": {
            "tags": []
          },
          "execution_count": 97
        }
      ]
    },
    {
      "cell_type": "code",
      "metadata": {
        "id": "BqUR7WyMdnZ2"
      },
      "source": [
        "mode_ = statistics.multimode(u)\n",
        "mode_\n"
      ],
      "execution_count": null,
      "outputs": []
    },
    {
      "cell_type": "markdown",
      "metadata": {
        "id": "v373DlD8droe"
      },
      "source": [
        "\n",
        " #statistics.multimode(u) not support\n",
        "\n",
        "\n"
      ]
    },
    {
      "cell_type": "code",
      "metadata": {
        "id": "QUvXCYckd0eO"
      },
      "source": [
        "v = [12, 15, 12, 15, 21, 15, 12]"
      ],
      "execution_count": null,
      "outputs": []
    },
    {
      "cell_type": "code",
      "metadata": {
        "id": "KYh8S2nVd3wv"
      },
      "source": [
        " statistics.multimode(v)"
      ],
      "execution_count": null,
      "outputs": []
    },
    {
      "cell_type": "markdown",
      "metadata": {
        "id": "daGWEvE1eM6Y"
      },
      "source": [
        " statistics.multimode not suport"
      ]
    },
    {
      "cell_type": "code",
      "metadata": {
        "id": "l-8Z1CpoeVF9",
        "colab": {
          "base_uri": "https://localhost:8080/"
        },
        "outputId": "4e3ddb56-ece9-4c65-b0b5-e0b835f1771d"
      },
      "source": [
        "statistics.mode([2, math.nan, 2])"
      ],
      "execution_count": null,
      "outputs": [
        {
          "output_type": "execute_result",
          "data": {
            "text/plain": [
              "2"
            ]
          },
          "metadata": {
            "tags": []
          },
          "execution_count": 106
        }
      ]
    },
    {
      "cell_type": "code",
      "metadata": {
        "id": "WrHX12A3eYwW",
        "colab": {
          "base_uri": "https://localhost:8080/"
        },
        "outputId": "909a4430-75dc-48c8-f6ac-af39b255fdd2"
      },
      "source": [
        "statistics.mode([2, math.nan, 0, math.nan, 5])"
      ],
      "execution_count": null,
      "outputs": [
        {
          "output_type": "execute_result",
          "data": {
            "text/plain": [
              "nan"
            ]
          },
          "metadata": {
            "tags": []
          },
          "execution_count": 107
        }
      ]
    },
    {
      "cell_type": "code",
      "metadata": {
        "id": "D9qNTpxCeahV"
      },
      "source": [
        "u, v = np.array(u), np.array(v)"
      ],
      "execution_count": null,
      "outputs": []
    },
    {
      "cell_type": "code",
      "metadata": {
        "id": "wvappsqKecDv",
        "colab": {
          "base_uri": "https://localhost:8080/"
        },
        "outputId": "6ffcbac1-149a-44fc-ac90-523fe3f9168e"
      },
      "source": [
        "mode_ = scipy.stats.mode(u)\n",
        "mode_"
      ],
      "execution_count": null,
      "outputs": [
        {
          "output_type": "execute_result",
          "data": {
            "text/plain": [
              "ModeResult(mode=array([2]), count=array([2]))"
            ]
          },
          "metadata": {
            "tags": []
          },
          "execution_count": 109
        }
      ]
    },
    {
      "cell_type": "code",
      "metadata": {
        "id": "ChF0RUGGeeG1",
        "colab": {
          "base_uri": "https://localhost:8080/"
        },
        "outputId": "94c6437b-2010-4aea-dfe8-a3072eebaa7a"
      },
      "source": [
        "mode_ = scipy.stats.mode(v)\n",
        "mode_"
      ],
      "execution_count": null,
      "outputs": [
        {
          "output_type": "execute_result",
          "data": {
            "text/plain": [
              "ModeResult(mode=array([12]), count=array([3]))"
            ]
          },
          "metadata": {
            "tags": []
          },
          "execution_count": 110
        }
      ]
    },
    {
      "cell_type": "code",
      "metadata": {
        "id": "ANdc8wjJegO1",
        "colab": {
          "base_uri": "https://localhost:8080/"
        },
        "outputId": "1508a813-8674-46ec-c97f-0628e7d0c76d"
      },
      "source": [
        "mode_.mode"
      ],
      "execution_count": null,
      "outputs": [
        {
          "output_type": "execute_result",
          "data": {
            "text/plain": [
              "array([12])"
            ]
          },
          "metadata": {
            "tags": []
          },
          "execution_count": 111
        }
      ]
    },
    {
      "cell_type": "code",
      "metadata": {
        "id": "EDFz9zQ6ehxs",
        "colab": {
          "base_uri": "https://localhost:8080/"
        },
        "outputId": "b79ac106-67d0-4489-bbf3-82432d73afc3"
      },
      "source": [
        " mode_.count"
      ],
      "execution_count": null,
      "outputs": [
        {
          "output_type": "execute_result",
          "data": {
            "text/plain": [
              "array([3])"
            ]
          },
          "metadata": {
            "tags": []
          },
          "execution_count": 112
        }
      ]
    },
    {
      "cell_type": "code",
      "metadata": {
        "id": "SqjUe364eio1",
        "colab": {
          "base_uri": "https://localhost:8080/"
        },
        "outputId": "b5fea092-94ec-407e-8bd9-477bc6edac0a"
      },
      "source": [
        "u, v, w = pd.Series(u), pd.Series(v), pd.Series([2, 2, math.nan])\n",
        "u.mode()"
      ],
      "execution_count": null,
      "outputs": [
        {
          "output_type": "execute_result",
          "data": {
            "text/plain": [
              "0    2\n",
              "dtype: int64"
            ]
          },
          "metadata": {
            "tags": []
          },
          "execution_count": 113
        }
      ]
    },
    {
      "cell_type": "code",
      "metadata": {
        "id": "ZEEOnZKpew_d",
        "colab": {
          "base_uri": "https://localhost:8080/"
        },
        "outputId": "27499037-db00-4468-9667-a5ac37720208"
      },
      "source": [
        "v.mode()"
      ],
      "execution_count": null,
      "outputs": [
        {
          "output_type": "execute_result",
          "data": {
            "text/plain": [
              "0    12\n",
              "1    15\n",
              "dtype: int64"
            ]
          },
          "metadata": {
            "tags": []
          },
          "execution_count": 114
        }
      ]
    },
    {
      "cell_type": "code",
      "metadata": {
        "id": "a4wavcg5eyEm",
        "colab": {
          "base_uri": "https://localhost:8080/"
        },
        "outputId": "ab332e30-dbf6-4409-ff7f-63161499de04"
      },
      "source": [
        "w.mode()"
      ],
      "execution_count": null,
      "outputs": [
        {
          "output_type": "execute_result",
          "data": {
            "text/plain": [
              "0    2.0\n",
              "dtype: float64"
            ]
          },
          "metadata": {
            "tags": []
          },
          "execution_count": 115
        }
      ]
    },
    {
      "cell_type": "code",
      "metadata": {
        "id": "L4YNWowme1nN",
        "colab": {
          "base_uri": "https://localhost:8080/"
        },
        "outputId": "c0f34b5d-77a8-43d1-8d5e-eb52dcdaac52"
      },
      "source": [
        "n = len(x)\n",
        "mean_ = sum(x) / n\n",
        "var_ = sum((item - mean_)**2 for item in x) / (n - 1)\n",
        "var_"
      ],
      "execution_count": null,
      "outputs": [
        {
          "output_type": "execute_result",
          "data": {
            "text/plain": [
              "123.19999999999999"
            ]
          },
          "metadata": {
            "tags": []
          },
          "execution_count": 117
        }
      ]
    },
    {
      "cell_type": "code",
      "metadata": {
        "id": "1sVYk3M6e9yd",
        "colab": {
          "base_uri": "https://localhost:8080/"
        },
        "outputId": "6fe2a090-e398-46f0-9cef-6ed99151f445"
      },
      "source": [
        "var_ = statistics.variance(x)\n",
        "var_"
      ],
      "execution_count": null,
      "outputs": [
        {
          "output_type": "execute_result",
          "data": {
            "text/plain": [
              "123.2"
            ]
          },
          "metadata": {
            "tags": []
          },
          "execution_count": 118
        }
      ]
    },
    {
      "cell_type": "code",
      "metadata": {
        "id": "fIe0JSazfBA3",
        "colab": {
          "base_uri": "https://localhost:8080/"
        },
        "outputId": "aab48401-5b5f-4496-cbdc-dd7de9343e49"
      },
      "source": [
        "statistics.variance(x_with_nan)"
      ],
      "execution_count": null,
      "outputs": [
        {
          "output_type": "execute_result",
          "data": {
            "text/plain": [
              "nan"
            ]
          },
          "metadata": {
            "tags": []
          },
          "execution_count": 119
        }
      ]
    },
    {
      "cell_type": "code",
      "metadata": {
        "id": "mxiN9PGDfCpu",
        "colab": {
          "base_uri": "https://localhost:8080/"
        },
        "outputId": "8bf59da9-e84a-40c4-c191-13848cf1d93b"
      },
      "source": [
        "var_ = np.var(y, ddof=1)\n",
        "var_"
      ],
      "execution_count": null,
      "outputs": [
        {
          "output_type": "execute_result",
          "data": {
            "text/plain": [
              "123.19999999999999"
            ]
          },
          "metadata": {
            "tags": []
          },
          "execution_count": 120
        }
      ]
    },
    {
      "cell_type": "code",
      "metadata": {
        "id": "_z7D4DH1fFU_",
        "colab": {
          "base_uri": "https://localhost:8080/"
        },
        "outputId": "5c531248-041f-41b8-f2f6-018d7bb3d52d"
      },
      "source": [
        "var_ = y.var(ddof=1)\n",
        "var_"
      ],
      "execution_count": null,
      "outputs": [
        {
          "output_type": "execute_result",
          "data": {
            "text/plain": [
              "123.19999999999999"
            ]
          },
          "metadata": {
            "tags": []
          },
          "execution_count": 121
        }
      ]
    },
    {
      "cell_type": "code",
      "metadata": {
        "id": "URNqbSr4fHi1",
        "colab": {
          "base_uri": "https://localhost:8080/"
        },
        "outputId": "bcd57d39-5bb4-45f8-f7e6-0e62201e768e"
      },
      "source": [
        "np.var(y_with_nan, ddof=1)"
      ],
      "execution_count": null,
      "outputs": [
        {
          "output_type": "execute_result",
          "data": {
            "text/plain": [
              "nan"
            ]
          },
          "metadata": {
            "tags": []
          },
          "execution_count": 122
        }
      ]
    },
    {
      "cell_type": "code",
      "metadata": {
        "id": "pJ_jY9E0fJMe",
        "colab": {
          "base_uri": "https://localhost:8080/"
        },
        "outputId": "ec144485-1f4a-4b07-c8f9-06c0f39d00b9"
      },
      "source": [
        "y_with_nan.var(ddof=1)"
      ],
      "execution_count": null,
      "outputs": [
        {
          "output_type": "execute_result",
          "data": {
            "text/plain": [
              "nan"
            ]
          },
          "metadata": {
            "tags": []
          },
          "execution_count": 123
        }
      ]
    },
    {
      "cell_type": "code",
      "metadata": {
        "id": "y87YyFKLfN4F",
        "colab": {
          "base_uri": "https://localhost:8080/"
        },
        "outputId": "0c352cd9-5f25-476d-e046-a7a48897bcc4"
      },
      "source": [
        "np.nanvar(y_with_nan, ddof=1)"
      ],
      "execution_count": null,
      "outputs": [
        {
          "output_type": "execute_result",
          "data": {
            "text/plain": [
              "123.19999999999999"
            ]
          },
          "metadata": {
            "tags": []
          },
          "execution_count": 124
        }
      ]
    },
    {
      "cell_type": "code",
      "metadata": {
        "id": "KsThPqrbfPpm",
        "colab": {
          "base_uri": "https://localhost:8080/"
        },
        "outputId": "c4f69721-b60c-459a-f802-cf0fb8e798d7"
      },
      "source": [
        "z.var(ddof=1)"
      ],
      "execution_count": null,
      "outputs": [
        {
          "output_type": "execute_result",
          "data": {
            "text/plain": [
              "123.19999999999999"
            ]
          },
          "metadata": {
            "tags": []
          },
          "execution_count": 125
        }
      ]
    },
    {
      "cell_type": "code",
      "metadata": {
        "id": "D6ZqJ-y0fQ_T",
        "colab": {
          "base_uri": "https://localhost:8080/"
        },
        "outputId": "99678fc8-ddbd-44e7-a066-2f010625abf6"
      },
      "source": [
        "z_with_nan.var(ddof=1)"
      ],
      "execution_count": null,
      "outputs": [
        {
          "output_type": "execute_result",
          "data": {
            "text/plain": [
              "123.19999999999999"
            ]
          },
          "metadata": {
            "tags": []
          },
          "execution_count": 126
        }
      ]
    },
    {
      "cell_type": "code",
      "metadata": {
        "id": "2O4L-eDlfS-f",
        "colab": {
          "base_uri": "https://localhost:8080/"
        },
        "outputId": "fc115c94-25ea-465f-d91b-8a8cfda03a7a"
      },
      "source": [
        "std_ = var_ ** 0.5\n",
        "std_"
      ],
      "execution_count": null,
      "outputs": [
        {
          "output_type": "execute_result",
          "data": {
            "text/plain": [
              "11.099549540409285"
            ]
          },
          "metadata": {
            "tags": []
          },
          "execution_count": 127
        }
      ]
    },
    {
      "cell_type": "code",
      "metadata": {
        "id": "zU8VSHHUfUj2",
        "colab": {
          "base_uri": "https://localhost:8080/"
        },
        "outputId": "a3085c1c-9260-4e08-99d8-ceb6dedfd690"
      },
      "source": [
        "std_ = statistics.stdev(x)\n",
        "std_"
      ],
      "execution_count": null,
      "outputs": [
        {
          "output_type": "execute_result",
          "data": {
            "text/plain": [
              "11.099549540409287"
            ]
          },
          "metadata": {
            "tags": []
          },
          "execution_count": 128
        }
      ]
    },
    {
      "cell_type": "code",
      "metadata": {
        "id": "tVxk1qf2fWoF",
        "colab": {
          "base_uri": "https://localhost:8080/"
        },
        "outputId": "da257cf1-335d-406e-ef1b-7d94aceab723"
      },
      "source": [
        "np.std(y, ddof=1)"
      ],
      "execution_count": null,
      "outputs": [
        {
          "output_type": "execute_result",
          "data": {
            "text/plain": [
              "11.099549540409285"
            ]
          },
          "metadata": {
            "tags": []
          },
          "execution_count": 129
        }
      ]
    },
    {
      "cell_type": "code",
      "metadata": {
        "id": "f0_72J3wfYsf",
        "colab": {
          "base_uri": "https://localhost:8080/"
        },
        "outputId": "1ef3ef10-2507-4536-f878-94cf3f7d7980"
      },
      "source": [
        "y.std(ddof=1)"
      ],
      "execution_count": null,
      "outputs": [
        {
          "output_type": "execute_result",
          "data": {
            "text/plain": [
              "11.099549540409285"
            ]
          },
          "metadata": {
            "tags": []
          },
          "execution_count": 130
        }
      ]
    },
    {
      "cell_type": "code",
      "metadata": {
        "id": "jIUFruCdfaS1",
        "colab": {
          "base_uri": "https://localhost:8080/"
        },
        "outputId": "4556e709-4ccb-45e6-c244-1368a8d20ae4"
      },
      "source": [
        "np.std(y_with_nan, ddof=1)"
      ],
      "execution_count": null,
      "outputs": [
        {
          "output_type": "execute_result",
          "data": {
            "text/plain": [
              "nan"
            ]
          },
          "metadata": {
            "tags": []
          },
          "execution_count": 131
        }
      ]
    },
    {
      "cell_type": "code",
      "metadata": {
        "id": "um3qgAW4fbyt",
        "colab": {
          "base_uri": "https://localhost:8080/"
        },
        "outputId": "920ed84b-a5ad-4f03-c1a5-3ee8dffc73fd"
      },
      "source": [
        "y_with_nan.std(ddof=1)"
      ],
      "execution_count": null,
      "outputs": [
        {
          "output_type": "execute_result",
          "data": {
            "text/plain": [
              "nan"
            ]
          },
          "metadata": {
            "tags": []
          },
          "execution_count": 132
        }
      ]
    },
    {
      "cell_type": "code",
      "metadata": {
        "id": "VMxLqOZ3fdJX",
        "colab": {
          "base_uri": "https://localhost:8080/"
        },
        "outputId": "211ba2d6-baeb-49bf-d2db-c6dd4fbdc4cb"
      },
      "source": [
        "np.nanstd(y_with_nan, ddof=1)"
      ],
      "execution_count": null,
      "outputs": [
        {
          "output_type": "execute_result",
          "data": {
            "text/plain": [
              "11.099549540409285"
            ]
          },
          "metadata": {
            "tags": []
          },
          "execution_count": 133
        }
      ]
    },
    {
      "cell_type": "code",
      "metadata": {
        "id": "beIBylpOfe8V",
        "colab": {
          "base_uri": "https://localhost:8080/"
        },
        "outputId": "fecba7db-60a2-47a2-99c7-4d3a359410a0"
      },
      "source": [
        "z.std(ddof=1)"
      ],
      "execution_count": null,
      "outputs": [
        {
          "output_type": "execute_result",
          "data": {
            "text/plain": [
              "11.099549540409285"
            ]
          },
          "metadata": {
            "tags": []
          },
          "execution_count": 134
        }
      ]
    },
    {
      "cell_type": "code",
      "metadata": {
        "id": "Q5ZLQuSgfgPu",
        "colab": {
          "base_uri": "https://localhost:8080/"
        },
        "outputId": "1b4b63ee-6691-4bd4-c29e-e607cdf8fd12"
      },
      "source": [
        "z_with_nan.std(ddof=1)"
      ],
      "execution_count": null,
      "outputs": [
        {
          "output_type": "execute_result",
          "data": {
            "text/plain": [
              "11.099549540409285"
            ]
          },
          "metadata": {
            "tags": []
          },
          "execution_count": 135
        }
      ]
    },
    {
      "cell_type": "code",
      "metadata": {
        "id": "ufGWMQsffi08"
      },
      "source": [
        "x = [8.0, 1, 2.5, 4, 28.0]\n",
        "n = len(x)"
      ],
      "execution_count": null,
      "outputs": []
    },
    {
      "cell_type": "code",
      "metadata": {
        "id": "rMXtOR6UfroV"
      },
      "source": [
        "mean_ = sum(x) / n\n",
        "var_ = sum((item - mean_)**2 for item in x) / (n - 1)\n",
        "std_ = var_ ** 0.5\n",
        "skew_ = (sum((item - mean_)**3 for item in x)\n",
        "* n / ((n - 1) * (n - 2) * std_**3))"
      ],
      "execution_count": null,
      "outputs": []
    },
    {
      "cell_type": "code",
      "metadata": {
        "id": "kVgRAxzIfxEm",
        "colab": {
          "base_uri": "https://localhost:8080/"
        },
        "outputId": "704a2940-013d-453d-97d4-996d7f3e2155"
      },
      "source": [
        "skew_\n"
      ],
      "execution_count": null,
      "outputs": [
        {
          "output_type": "execute_result",
          "data": {
            "text/plain": [
              "1.9470432273905929"
            ]
          },
          "metadata": {
            "tags": []
          },
          "execution_count": 138
        }
      ]
    },
    {
      "cell_type": "code",
      "metadata": {
        "id": "VhpHHPMcfzGm",
        "colab": {
          "base_uri": "https://localhost:8080/"
        },
        "outputId": "a5e7adc4-36dc-494a-ebdc-f515601f0dfd"
      },
      "source": [
        "y, y_with_nan = np.array(x), np.array(x_with_nan)\n",
        "scipy.stats.skew(y, bias=False)"
      ],
      "execution_count": null,
      "outputs": [
        {
          "output_type": "execute_result",
          "data": {
            "text/plain": [
              "1.9470432273905927"
            ]
          },
          "metadata": {
            "tags": []
          },
          "execution_count": 139
        }
      ]
    },
    {
      "cell_type": "code",
      "metadata": {
        "id": "bBpLl6scf07l",
        "colab": {
          "base_uri": "https://localhost:8080/"
        },
        "outputId": "5fef27c8-abbb-4884-e9b1-c8c64c9e897c"
      },
      "source": [
        " scipy.stats.skew(y_with_nan, bias=False)"
      ],
      "execution_count": null,
      "outputs": [
        {
          "output_type": "execute_result",
          "data": {
            "text/plain": [
              "nan"
            ]
          },
          "metadata": {
            "tags": []
          },
          "execution_count": 140
        }
      ]
    },
    {
      "cell_type": "code",
      "metadata": {
        "id": "o__bisqBf3X-",
        "colab": {
          "base_uri": "https://localhost:8080/"
        },
        "outputId": "4cfeaa18-3bdf-459c-e63e-bfe00a4ffff5"
      },
      "source": [
        "z, z_with_nan = pd.Series(x), pd.Series(x_with_nan)\n",
        "z.skew()"
      ],
      "execution_count": null,
      "outputs": [
        {
          "output_type": "execute_result",
          "data": {
            "text/plain": [
              "1.9470432273905924"
            ]
          },
          "metadata": {
            "tags": []
          },
          "execution_count": 141
        }
      ]
    },
    {
      "cell_type": "code",
      "metadata": {
        "id": "NtaOAE6Rf6q1",
        "colab": {
          "base_uri": "https://localhost:8080/"
        },
        "outputId": "1c82e898-77cc-41db-de8e-9cecb0ef0b02"
      },
      "source": [
        "z_with_nan.skew()"
      ],
      "execution_count": null,
      "outputs": [
        {
          "output_type": "execute_result",
          "data": {
            "text/plain": [
              "1.9470432273905924"
            ]
          },
          "metadata": {
            "tags": []
          },
          "execution_count": 142
        }
      ]
    },
    {
      "cell_type": "code",
      "metadata": {
        "id": "PmRzSUakiExA"
      },
      "source": [
        " x = [-5.0, -1.1, 0.1, 2.0, 8.0, 12.8, 21.0, 25.8, 41.0]"
      ],
      "execution_count": null,
      "outputs": []
    },
    {
      "cell_type": "code",
      "metadata": {
        "id": "cvSrAPx4mISk",
        "colab": {
          "base_uri": "https://localhost:8080/"
        },
        "outputId": "89dd55bc-b059-4bd1-b05f-882d9468cd63"
      },
      "source": [
        "y = np.array(x)\n",
        "np.percentile(y, 5)"
      ],
      "execution_count": null,
      "outputs": [
        {
          "output_type": "execute_result",
          "data": {
            "text/plain": [
              "1.0"
            ]
          },
          "metadata": {
            "tags": []
          },
          "execution_count": 172
        }
      ]
    },
    {
      "cell_type": "code",
      "metadata": {
        "id": "c4gQaiyamNc7",
        "colab": {
          "base_uri": "https://localhost:8080/"
        },
        "outputId": "eab26155-56f0-4871-9f62-e35a94809b4f"
      },
      "source": [
        "np.percentile(y, 95)"
      ],
      "execution_count": null,
      "outputs": [
        {
          "output_type": "execute_result",
          "data": {
            "text/plain": [
              "19.0"
            ]
          },
          "metadata": {
            "tags": []
          },
          "execution_count": 173
        }
      ]
    },
    {
      "cell_type": "code",
      "metadata": {
        "id": "X560vwDEmPSb",
        "colab": {
          "base_uri": "https://localhost:8080/"
        },
        "outputId": "1949ed68-17a6-44cc-fa92-03063c0e6f17"
      },
      "source": [
        "np.percentile(y, [25, 50, 75])"
      ],
      "execution_count": null,
      "outputs": [
        {
          "output_type": "execute_result",
          "data": {
            "text/plain": [
              "array([ 5., 10., 15.])"
            ]
          },
          "metadata": {
            "tags": []
          },
          "execution_count": 174
        }
      ]
    },
    {
      "cell_type": "code",
      "metadata": {
        "id": "J99lXaCcmQmU",
        "colab": {
          "base_uri": "https://localhost:8080/"
        },
        "outputId": "88189fd2-5382-47b1-88af-95a5a4f0fc01"
      },
      "source": [
        "np.median(y)"
      ],
      "execution_count": null,
      "outputs": [
        {
          "output_type": "execute_result",
          "data": {
            "text/plain": [
              "10.0"
            ]
          },
          "metadata": {
            "tags": []
          },
          "execution_count": 175
        }
      ]
    },
    {
      "cell_type": "code",
      "metadata": {
        "id": "cAu0q1YDk9Nr"
      },
      "source": [
        "import matplotlib.pyplot as plt\n",
        "plt.style.use('ggplot')"
      ],
      "execution_count": null,
      "outputs": []
    },
    {
      "cell_type": "code",
      "metadata": {
        "id": "k0tiJQcnmlrI"
      },
      "source": [
        "x = list(range(-10, 11))"
      ],
      "execution_count": null,
      "outputs": []
    },
    {
      "cell_type": "code",
      "metadata": {
        "id": "x6sDXa-UmuAM"
      },
      "source": [
        "y = [0, 2, 2, 2, 2, 3, 3, 6, 7, 4, 7, 6, 6, 9, 4, 5, 5, 10, 11, 12, 14]"
      ],
      "execution_count": null,
      "outputs": []
    },
    {
      "cell_type": "code",
      "metadata": {
        "id": "IT8mP8SMmvP7"
      },
      "source": [
        "x_, y_ = np.array(x), np.array(y)"
      ],
      "execution_count": null,
      "outputs": []
    },
    {
      "cell_type": "code",
      "metadata": {
        "id": "yM1SW9cfmwq8"
      },
      "source": [
        "x__, y__ = pd.Series(x_), pd.Series(y_)"
      ],
      "execution_count": null,
      "outputs": []
    },
    {
      "cell_type": "code",
      "metadata": {
        "id": "dItt2BfKmyqq"
      },
      "source": [
        "n = len(x)"
      ],
      "execution_count": null,
      "outputs": []
    },
    {
      "cell_type": "code",
      "metadata": {
        "id": "iYraechfm0EM"
      },
      "source": [
        " mean_x, mean_y = sum(x) / n, sum(y) / n"
      ],
      "execution_count": null,
      "outputs": []
    },
    {
      "cell_type": "code",
      "metadata": {
        "id": "9TL4f84zm2FH"
      },
      "source": [
        "cov_xy = (sum((x[k] - mean_x) * (y[k] - mean_y) for k in range(n))/ (n - 1))"
      ],
      "execution_count": null,
      "outputs": []
    },
    {
      "cell_type": "code",
      "metadata": {
        "id": "SXE7EN41m9NG",
        "colab": {
          "base_uri": "https://localhost:8080/"
        },
        "outputId": "742b53c3-9324-4c78-e896-c2b306a9365d"
      },
      "source": [
        "cov_xy"
      ],
      "execution_count": null,
      "outputs": [
        {
          "output_type": "execute_result",
          "data": {
            "text/plain": [
              "19.95"
            ]
          },
          "metadata": {
            "tags": []
          },
          "execution_count": 187
        }
      ]
    },
    {
      "cell_type": "code",
      "metadata": {
        "id": "Hx3JQjUom_m8"
      },
      "source": [
        "cov_matrix = np.cov(x_, y_)"
      ],
      "execution_count": null,
      "outputs": []
    },
    {
      "cell_type": "code",
      "metadata": {
        "id": "6RjMu8m0nA_8",
        "colab": {
          "base_uri": "https://localhost:8080/"
        },
        "outputId": "a27d5745-116a-4354-c68e-9466e5afb09c"
      },
      "source": [
        "cov_matrix"
      ],
      "execution_count": null,
      "outputs": [
        {
          "output_type": "execute_result",
          "data": {
            "text/plain": [
              "array([[38.5       , 19.95      ],\n",
              "       [19.95      , 13.91428571]])"
            ]
          },
          "metadata": {
            "tags": []
          },
          "execution_count": 189
        }
      ]
    },
    {
      "cell_type": "code",
      "metadata": {
        "id": "RuDZwi2cnC0_",
        "colab": {
          "base_uri": "https://localhost:8080/"
        },
        "outputId": "b06cb0b9-b84f-489c-995b-ef3506cf0995"
      },
      "source": [
        " x_.var(ddof=1)"
      ],
      "execution_count": null,
      "outputs": [
        {
          "output_type": "execute_result",
          "data": {
            "text/plain": [
              "38.5"
            ]
          },
          "metadata": {
            "tags": []
          },
          "execution_count": 190
        }
      ]
    },
    {
      "cell_type": "code",
      "metadata": {
        "id": "IvaAxBbvnEP7",
        "colab": {
          "base_uri": "https://localhost:8080/"
        },
        "outputId": "e1467f6b-34d3-460a-bb22-86794b8fc03d"
      },
      "source": [
        "y_.var(ddof=1)"
      ],
      "execution_count": null,
      "outputs": [
        {
          "output_type": "execute_result",
          "data": {
            "text/plain": [
              "13.914285714285711"
            ]
          },
          "metadata": {
            "tags": []
          },
          "execution_count": 191
        }
      ]
    },
    {
      "cell_type": "code",
      "metadata": {
        "id": "6rMLq3BenGvc"
      },
      "source": [
        "cov_xy = cov_matrix[0, 1]"
      ],
      "execution_count": null,
      "outputs": []
    },
    {
      "cell_type": "code",
      "metadata": {
        "id": "iedz9n2anIKb",
        "colab": {
          "base_uri": "https://localhost:8080/"
        },
        "outputId": "4e484827-fb08-4aa9-9c2b-d7c263d19038"
      },
      "source": [
        "cov_xy"
      ],
      "execution_count": null,
      "outputs": [
        {
          "output_type": "execute_result",
          "data": {
            "text/plain": [
              "19.95"
            ]
          },
          "metadata": {
            "tags": []
          },
          "execution_count": 193
        }
      ]
    },
    {
      "cell_type": "code",
      "metadata": {
        "id": "moIoetiRnJUG"
      },
      "source": [
        "cov_xy = cov_matrix[1, 0]"
      ],
      "execution_count": null,
      "outputs": []
    },
    {
      "cell_type": "code",
      "metadata": {
        "id": "5aO9fCf1nK-a",
        "colab": {
          "base_uri": "https://localhost:8080/"
        },
        "outputId": "fe21c364-91b6-4685-9fc4-788cb4aaa757"
      },
      "source": [
        "cov_xy"
      ],
      "execution_count": null,
      "outputs": [
        {
          "output_type": "execute_result",
          "data": {
            "text/plain": [
              "19.95"
            ]
          },
          "metadata": {
            "tags": []
          },
          "execution_count": 195
        }
      ]
    },
    {
      "cell_type": "code",
      "metadata": {
        "id": "Rv-XP_MznMx1"
      },
      "source": [
        "cov_xy = x__.cov(y__)"
      ],
      "execution_count": null,
      "outputs": []
    },
    {
      "cell_type": "code",
      "metadata": {
        "id": "seV2lJS6nOHb",
        "colab": {
          "base_uri": "https://localhost:8080/"
        },
        "outputId": "3fd06603-2101-4498-d974-c882075b4f95"
      },
      "source": [
        "cov_xy"
      ],
      "execution_count": null,
      "outputs": [
        {
          "output_type": "execute_result",
          "data": {
            "text/plain": [
              "19.95"
            ]
          },
          "metadata": {
            "tags": []
          },
          "execution_count": 197
        }
      ]
    },
    {
      "cell_type": "code",
      "metadata": {
        "id": "mrTSDr_LnP3L",
        "colab": {
          "base_uri": "https://localhost:8080/"
        },
        "outputId": "6dabeb70-b62d-432d-aa66-d65a4ccbad17"
      },
      "source": [
        "cov_xy = y__.cov(x__)\n",
        "cov_xy"
      ],
      "execution_count": null,
      "outputs": [
        {
          "output_type": "execute_result",
          "data": {
            "text/plain": [
              "19.95"
            ]
          },
          "metadata": {
            "tags": []
          },
          "execution_count": 198
        }
      ]
    },
    {
      "cell_type": "code",
      "metadata": {
        "id": "uInnyx4ynTbD",
        "colab": {
          "base_uri": "https://localhost:8080/"
        },
        "outputId": "554a8de5-68a2-4552-de8b-37be287f113b"
      },
      "source": [
        "var_x = sum((item - mean_x)**2 for item in x) / (n - 1)\n",
        "var_y = sum((item - mean_y)**2 for item in y) / (n - 1)\n",
        "std_x, std_y = var_x ** 0.5, var_y ** 0.5\n",
        "r = cov_xy / (std_x * std_y)\n",
        "r"
      ],
      "execution_count": null,
      "outputs": [
        {
          "output_type": "execute_result",
          "data": {
            "text/plain": [
              "0.861950005631606"
            ]
          },
          "metadata": {
            "tags": []
          },
          "execution_count": 199
        }
      ]
    },
    {
      "cell_type": "code",
      "metadata": {
        "id": "1VyFnv3JnX5E",
        "colab": {
          "base_uri": "https://localhost:8080/"
        },
        "outputId": "c2e8cf22-b091-41b2-ded1-923a4410b81a"
      },
      "source": [
        "r, p = scipy.stats.pearsonr(x_, y_)\n",
        "r"
      ],
      "execution_count": null,
      "outputs": [
        {
          "output_type": "execute_result",
          "data": {
            "text/plain": [
              "0.8619500056316061"
            ]
          },
          "metadata": {
            "tags": []
          },
          "execution_count": 200
        }
      ]
    },
    {
      "cell_type": "code",
      "metadata": {
        "id": "oP82T6twnaGF",
        "colab": {
          "base_uri": "https://localhost:8080/"
        },
        "outputId": "d08ce869-4635-4479-fa44-bbb99c558f49"
      },
      "source": [
        "p"
      ],
      "execution_count": null,
      "outputs": [
        {
          "output_type": "execute_result",
          "data": {
            "text/plain": [
              "5.122760847201135e-07"
            ]
          },
          "metadata": {
            "tags": []
          },
          "execution_count": 201
        }
      ]
    },
    {
      "cell_type": "code",
      "metadata": {
        "id": "aM1IlieGnsos",
        "colab": {
          "base_uri": "https://localhost:8080/"
        },
        "outputId": "9f963d44-5592-44cb-a6f1-224e6c0e10b9"
      },
      "source": [
        "corr_matrix = np.corrcoef(x_, y_)\n",
        "corr_matrix"
      ],
      "execution_count": null,
      "outputs": [
        {
          "output_type": "execute_result",
          "data": {
            "text/plain": [
              "array([[1.        , 0.86195001],\n",
              "       [0.86195001, 1.        ]])"
            ]
          },
          "metadata": {
            "tags": []
          },
          "execution_count": 202
        }
      ]
    },
    {
      "cell_type": "code",
      "metadata": {
        "id": "BN_99z17nvEU",
        "colab": {
          "base_uri": "https://localhost:8080/"
        },
        "outputId": "877c7e22-4649-4ec8-acc3-0c6ab1359b5d"
      },
      "source": [
        "r = corr_matrix[0, 1]\n",
        "r"
      ],
      "execution_count": null,
      "outputs": [
        {
          "output_type": "execute_result",
          "data": {
            "text/plain": [
              "0.8619500056316061"
            ]
          },
          "metadata": {
            "tags": []
          },
          "execution_count": 203
        }
      ]
    },
    {
      "cell_type": "code",
      "metadata": {
        "id": "mT39bwSpnws0",
        "colab": {
          "base_uri": "https://localhost:8080/"
        },
        "outputId": "957bd85c-cb35-487f-b76f-7329603a84a7"
      },
      "source": [
        "r = corr_matrix[1, 0]\n",
        "r"
      ],
      "execution_count": null,
      "outputs": [
        {
          "output_type": "execute_result",
          "data": {
            "text/plain": [
              "0.861950005631606"
            ]
          },
          "metadata": {
            "tags": []
          },
          "execution_count": 204
        }
      ]
    },
    {
      "cell_type": "code",
      "metadata": {
        "id": "eQCgvsFHnyyT",
        "colab": {
          "base_uri": "https://localhost:8080/"
        },
        "outputId": "6e5a9559-72da-4e8c-fdc6-42a60e436d4f"
      },
      "source": [
        "scipy.stats.linregress(x_, y_)"
      ],
      "execution_count": null,
      "outputs": [
        {
          "output_type": "execute_result",
          "data": {
            "text/plain": [
              "LinregressResult(slope=0.5181818181818181, intercept=5.714285714285714, rvalue=0.861950005631606, pvalue=5.122760847201164e-07, stderr=0.06992387660074979)"
            ]
          },
          "metadata": {
            "tags": []
          },
          "execution_count": 205
        }
      ]
    },
    {
      "cell_type": "code",
      "metadata": {
        "id": "7CnBBpVRn0W9",
        "colab": {
          "base_uri": "https://localhost:8080/"
        },
        "outputId": "1977e25a-fa8b-47b4-f1e4-d6fe2b3ca9f9"
      },
      "source": [
        "result = scipy.stats.linregress(x_, y_)\n",
        "r = result.rvalue\n",
        "r"
      ],
      "execution_count": null,
      "outputs": [
        {
          "output_type": "execute_result",
          "data": {
            "text/plain": [
              "0.861950005631606"
            ]
          },
          "metadata": {
            "tags": []
          },
          "execution_count": 206
        }
      ]
    },
    {
      "cell_type": "code",
      "metadata": {
        "id": "TjOnikrgn5BV",
        "colab": {
          "base_uri": "https://localhost:8080/"
        },
        "outputId": "0b13f333-1f84-4005-9854-0dbd96830018"
      },
      "source": [
        "r = x__.corr(y__)\n",
        "r"
      ],
      "execution_count": null,
      "outputs": [
        {
          "output_type": "execute_result",
          "data": {
            "text/plain": [
              "0.8619500056316061"
            ]
          },
          "metadata": {
            "tags": []
          },
          "execution_count": 207
        }
      ]
    },
    {
      "cell_type": "code",
      "metadata": {
        "id": "EW_dJ4vTn66t",
        "colab": {
          "base_uri": "https://localhost:8080/"
        },
        "outputId": "136d56a7-8040-423c-a4ee-9d420ca8d41b"
      },
      "source": [
        "r = y__.corr(x__)\n",
        "r"
      ],
      "execution_count": null,
      "outputs": [
        {
          "output_type": "execute_result",
          "data": {
            "text/plain": [
              "0.861950005631606"
            ]
          },
          "metadata": {
            "tags": []
          },
          "execution_count": 208
        }
      ]
    },
    {
      "cell_type": "code",
      "metadata": {
        "id": "pVJgLu_jn-Qv",
        "colab": {
          "base_uri": "https://localhost:8080/"
        },
        "outputId": "95b68839-89b8-445e-c0a7-0f0165179165"
      },
      "source": [
        "a = np.array([[1, 1, 1],\n",
        "  [2, 3, 1],\n",
        "  [4, 9, 2],\n",
        "  [8, 27, 4],\n",
        "  [16, 1, 1]])\n",
        "a"
      ],
      "execution_count": null,
      "outputs": [
        {
          "output_type": "execute_result",
          "data": {
            "text/plain": [
              "array([[ 1,  1,  1],\n",
              "       [ 2,  3,  1],\n",
              "       [ 4,  9,  2],\n",
              "       [ 8, 27,  4],\n",
              "       [16,  1,  1]])"
            ]
          },
          "metadata": {
            "tags": []
          },
          "execution_count": 209
        }
      ]
    },
    {
      "cell_type": "code",
      "metadata": {
        "id": "Zvfzv9gBoDJE",
        "colab": {
          "base_uri": "https://localhost:8080/"
        },
        "outputId": "a19d1451-204d-4e90-eb6f-ff753a6ec05e"
      },
      "source": [
        "np.mean(a)"
      ],
      "execution_count": null,
      "outputs": [
        {
          "output_type": "execute_result",
          "data": {
            "text/plain": [
              "5.4"
            ]
          },
          "metadata": {
            "tags": []
          },
          "execution_count": 210
        }
      ]
    },
    {
      "cell_type": "code",
      "metadata": {
        "id": "njvBOeoWoF0l",
        "colab": {
          "base_uri": "https://localhost:8080/"
        },
        "outputId": "c1dd9a57-1df0-4871-a4fb-0a6215f05e77"
      },
      "source": [
        "a.mean()"
      ],
      "execution_count": null,
      "outputs": [
        {
          "output_type": "execute_result",
          "data": {
            "text/plain": [
              "5.4"
            ]
          },
          "metadata": {
            "tags": []
          },
          "execution_count": 211
        }
      ]
    },
    {
      "cell_type": "code",
      "metadata": {
        "id": "wsbT5D8LoG8U",
        "colab": {
          "base_uri": "https://localhost:8080/"
        },
        "outputId": "d6767614-41ca-4ea5-c5e6-bd4193049096"
      },
      "source": [
        "np.median(a)"
      ],
      "execution_count": null,
      "outputs": [
        {
          "output_type": "execute_result",
          "data": {
            "text/plain": [
              "2.0"
            ]
          },
          "metadata": {
            "tags": []
          },
          "execution_count": 212
        }
      ]
    },
    {
      "cell_type": "code",
      "metadata": {
        "id": "8p86EXZ4oI8U",
        "colab": {
          "base_uri": "https://localhost:8080/"
        },
        "outputId": "a7503206-c3c8-4694-948e-023570ab1341"
      },
      "source": [
        "a.var(ddof=1)"
      ],
      "execution_count": null,
      "outputs": [
        {
          "output_type": "execute_result",
          "data": {
            "text/plain": [
              "53.40000000000001"
            ]
          },
          "metadata": {
            "tags": []
          },
          "execution_count": 213
        }
      ]
    },
    {
      "cell_type": "code",
      "metadata": {
        "id": "_pBEI3LIoKR8",
        "colab": {
          "base_uri": "https://localhost:8080/"
        },
        "outputId": "9c61d733-aef5-4473-8edb-88fd7f54da19"
      },
      "source": [
        "np.mean(a, axis=0)"
      ],
      "execution_count": null,
      "outputs": [
        {
          "output_type": "execute_result",
          "data": {
            "text/plain": [
              "array([6.2, 8.2, 1.8])"
            ]
          },
          "metadata": {
            "tags": []
          },
          "execution_count": 214
        }
      ]
    },
    {
      "cell_type": "code",
      "metadata": {
        "id": "7UE2_fGuoLsl",
        "colab": {
          "base_uri": "https://localhost:8080/"
        },
        "outputId": "12039063-5e22-4098-eb47-ef2d7cfb064c"
      },
      "source": [
        "a.mean(axis=0)"
      ],
      "execution_count": null,
      "outputs": [
        {
          "output_type": "execute_result",
          "data": {
            "text/plain": [
              "array([6.2, 8.2, 1.8])"
            ]
          },
          "metadata": {
            "tags": []
          },
          "execution_count": 215
        }
      ]
    },
    {
      "cell_type": "code",
      "metadata": {
        "id": "GXfVZ6IeoP-U",
        "colab": {
          "base_uri": "https://localhost:8080/"
        },
        "outputId": "57f769dc-edb6-45c6-b310-ddbf855fd512"
      },
      "source": [
        "a.mean(axis=0)"
      ],
      "execution_count": null,
      "outputs": [
        {
          "output_type": "execute_result",
          "data": {
            "text/plain": [
              "array([6.2, 8.2, 1.8])"
            ]
          },
          "metadata": {
            "tags": []
          },
          "execution_count": 216
        }
      ]
    },
    {
      "cell_type": "code",
      "metadata": {
        "id": "AF7S824loQ_G",
        "colab": {
          "base_uri": "https://localhost:8080/"
        },
        "outputId": "9c7e31fb-26da-4ccf-e41a-b06b38c7e01b"
      },
      "source": [
        "np.mean(a, axis=1)"
      ],
      "execution_count": null,
      "outputs": [
        {
          "output_type": "execute_result",
          "data": {
            "text/plain": [
              "array([ 1.,  2.,  5., 13.,  6.])"
            ]
          },
          "metadata": {
            "tags": []
          },
          "execution_count": 217
        }
      ]
    },
    {
      "cell_type": "code",
      "metadata": {
        "id": "YMcQtswLoTDo",
        "colab": {
          "base_uri": "https://localhost:8080/"
        },
        "outputId": "6b8aa326-e60f-4bb5-ba4d-1c3e4a0db143"
      },
      "source": [
        "a.mean(axis=1)"
      ],
      "execution_count": null,
      "outputs": [
        {
          "output_type": "execute_result",
          "data": {
            "text/plain": [
              "array([ 1.,  2.,  5., 13.,  6.])"
            ]
          },
          "metadata": {
            "tags": []
          },
          "execution_count": 218
        }
      ]
    },
    {
      "cell_type": "code",
      "metadata": {
        "id": "NLcpt9QDoUnV",
        "colab": {
          "base_uri": "https://localhost:8080/"
        },
        "outputId": "eb726330-050a-402b-f289-d4b43b1d3615"
      },
      "source": [
        "np.median(a, axis=0)"
      ],
      "execution_count": null,
      "outputs": [
        {
          "output_type": "execute_result",
          "data": {
            "text/plain": [
              "array([4., 3., 1.])"
            ]
          },
          "metadata": {
            "tags": []
          },
          "execution_count": 219
        }
      ]
    },
    {
      "cell_type": "code",
      "metadata": {
        "id": "RP6c5GeOoWK4",
        "colab": {
          "base_uri": "https://localhost:8080/"
        },
        "outputId": "bb4d2fa9-92b7-41af-92e7-bb41316fbcb0"
      },
      "source": [
        "np.median(a, axis=1)"
      ],
      "execution_count": null,
      "outputs": [
        {
          "output_type": "execute_result",
          "data": {
            "text/plain": [
              "array([1., 2., 4., 8., 1.])"
            ]
          },
          "metadata": {
            "tags": []
          },
          "execution_count": 220
        }
      ]
    },
    {
      "cell_type": "code",
      "metadata": {
        "id": "Pzf_aAluoXip",
        "colab": {
          "base_uri": "https://localhost:8080/"
        },
        "outputId": "293d1f4b-0357-49b3-d0c8-a0f4af9bc6d0"
      },
      "source": [
        "a.var(axis=0, ddof=1)"
      ],
      "execution_count": null,
      "outputs": [
        {
          "output_type": "execute_result",
          "data": {
            "text/plain": [
              "array([ 37.2, 121.2,   1.7])"
            ]
          },
          "metadata": {
            "tags": []
          },
          "execution_count": 221
        }
      ]
    },
    {
      "cell_type": "code",
      "metadata": {
        "id": "byfUcMhkoY1d",
        "colab": {
          "base_uri": "https://localhost:8080/"
        },
        "outputId": "89e37164-fda6-4fc9-bab8-842fc4b2da7a"
      },
      "source": [
        "a.var(axis=1, ddof=1)"
      ],
      "execution_count": null,
      "outputs": [
        {
          "output_type": "execute_result",
          "data": {
            "text/plain": [
              "array([  0.,   1.,  13., 151.,  75.])"
            ]
          },
          "metadata": {
            "tags": []
          },
          "execution_count": 222
        }
      ]
    },
    {
      "cell_type": "code",
      "metadata": {
        "id": "qZiFanjLodmm",
        "colab": {
          "base_uri": "https://localhost:8080/"
        },
        "outputId": "22bb2d43-3dc7-4e0a-af32-9adc2aa69661"
      },
      "source": [
        "scipy.stats.gmean(a)  # Default: axis=0"
      ],
      "execution_count": null,
      "outputs": [
        {
          "output_type": "execute_result",
          "data": {
            "text/plain": [
              "array([4.        , 3.73719282, 1.51571657])"
            ]
          },
          "metadata": {
            "tags": []
          },
          "execution_count": 223
        }
      ]
    },
    {
      "cell_type": "code",
      "metadata": {
        "id": "TYveRCg1ojS-",
        "colab": {
          "base_uri": "https://localhost:8080/"
        },
        "outputId": "6c03c362-17fd-4c97-ab35-1d19355dafc7"
      },
      "source": [
        "scipy.stats.gmean(a, axis=0)"
      ],
      "execution_count": null,
      "outputs": [
        {
          "output_type": "execute_result",
          "data": {
            "text/plain": [
              "array([4.        , 3.73719282, 1.51571657])"
            ]
          },
          "metadata": {
            "tags": []
          },
          "execution_count": 224
        }
      ]
    },
    {
      "cell_type": "code",
      "metadata": {
        "id": "u2rLMnmGokkf",
        "colab": {
          "base_uri": "https://localhost:8080/"
        },
        "outputId": "d756b425-7385-4034-f50c-a11be816c945"
      },
      "source": [
        "scipy.stats.gmean(a, axis=1)"
      ],
      "execution_count": null,
      "outputs": [
        {
          "output_type": "execute_result",
          "data": {
            "text/plain": [
              "array([1.        , 1.81712059, 4.16016765, 9.52440631, 2.5198421 ])"
            ]
          },
          "metadata": {
            "tags": []
          },
          "execution_count": 225
        }
      ]
    },
    {
      "cell_type": "code",
      "metadata": {
        "id": "IHXhscj7ol9O",
        "colab": {
          "base_uri": "https://localhost:8080/"
        },
        "outputId": "18150278-6d10-4c7a-9953-d947d3f578a6"
      },
      "source": [
        "scipy.stats.gmean(a, axis=None)"
      ],
      "execution_count": null,
      "outputs": [
        {
          "output_type": "execute_result",
          "data": {
            "text/plain": [
              "2.829705017016332"
            ]
          },
          "metadata": {
            "tags": []
          },
          "execution_count": 226
        }
      ]
    },
    {
      "cell_type": "code",
      "metadata": {
        "id": "m7HkoBvLonvJ",
        "colab": {
          "base_uri": "https://localhost:8080/"
        },
        "outputId": "cb76b5f1-3987-4c67-a247-d1a7451b19ec"
      },
      "source": [
        "scipy.stats.describe(a, axis=None, ddof=1, bias=False)"
      ],
      "execution_count": null,
      "outputs": [
        {
          "output_type": "execute_result",
          "data": {
            "text/plain": [
              "DescribeResult(nobs=15, minmax=(1, 27), mean=5.4, variance=53.40000000000001, skewness=2.264965290423389, kurtosis=5.212690982795767)"
            ]
          },
          "metadata": {
            "tags": []
          },
          "execution_count": 227
        }
      ]
    },
    {
      "cell_type": "code",
      "metadata": {
        "id": "QEnV24LBorQt",
        "colab": {
          "base_uri": "https://localhost:8080/"
        },
        "outputId": "b623046b-901c-4d28-ffbd-80fe417ad028"
      },
      "source": [
        "scipy.stats.describe(a, ddof=1, bias=False)  # Default: axis=0"
      ],
      "execution_count": null,
      "outputs": [
        {
          "output_type": "execute_result",
          "data": {
            "text/plain": [
              "DescribeResult(nobs=5, minmax=(array([1, 1, 1]), array([16, 27,  4])), mean=array([6.2, 8.2, 1.8]), variance=array([ 37.2, 121.2,   1.7]), skewness=array([1.32531471, 1.79809454, 1.71439233]), kurtosis=array([1.30376344, 3.14969121, 2.66435986]))"
            ]
          },
          "metadata": {
            "tags": []
          },
          "execution_count": 228
        }
      ]
    },
    {
      "cell_type": "code",
      "metadata": {
        "id": "vl1Fteg3ouH1",
        "colab": {
          "base_uri": "https://localhost:8080/"
        },
        "outputId": "8710f08b-bdd2-4155-cef6-c482f96fcbe8"
      },
      "source": [
        "scipy.stats.describe(a, axis=1, ddof=1, bias=False)"
      ],
      "execution_count": null,
      "outputs": [
        {
          "output_type": "execute_result",
          "data": {
            "text/plain": [
              "DescribeResult(nobs=3, minmax=(array([1, 1, 2, 4, 1]), array([ 1,  3,  9, 27, 16])), mean=array([ 1.,  2.,  5., 13.,  6.]), variance=array([  0.,   1.,  13., 151.,  75.]), skewness=array([0.        , 0.        , 1.15206964, 1.52787436, 1.73205081]), kurtosis=array([-3. , -1.5, -1.5, -1.5, -1.5]))"
            ]
          },
          "metadata": {
            "tags": []
          },
          "execution_count": 229
        }
      ]
    },
    {
      "cell_type": "code",
      "metadata": {
        "id": "CjsR9nUNou0F",
        "colab": {
          "base_uri": "https://localhost:8080/"
        },
        "outputId": "39d8a4ca-2a5e-49c5-f89c-bcefa96f9f48"
      },
      "source": [
        "result = scipy.stats.describe(a, axis=1, ddof=1, bias=False)\n",
        "result.mean"
      ],
      "execution_count": null,
      "outputs": [
        {
          "output_type": "execute_result",
          "data": {
            "text/plain": [
              "array([ 1.,  2.,  5., 13.,  6.])"
            ]
          },
          "metadata": {
            "tags": []
          },
          "execution_count": 230
        }
      ]
    },
    {
      "cell_type": "code",
      "metadata": {
        "id": "ASyvgSw7oyeW",
        "colab": {
          "base_uri": "https://localhost:8080/",
          "height": 204
        },
        "outputId": "5167c132-e5a8-4265-9287-181e8f23dff4"
      },
      "source": [
        "row_names = ['first', 'second', 'third', 'fourth', 'fifth']\n",
        "col_names = ['A', 'B', 'C']\n",
        "df = pd.DataFrame(a, index=row_names, columns=col_names)\n",
        "df"
      ],
      "execution_count": null,
      "outputs": [
        {
          "output_type": "execute_result",
          "data": {
            "text/html": [
              "<div>\n",
              "<style scoped>\n",
              "    .dataframe tbody tr th:only-of-type {\n",
              "        vertical-align: middle;\n",
              "    }\n",
              "\n",
              "    .dataframe tbody tr th {\n",
              "        vertical-align: top;\n",
              "    }\n",
              "\n",
              "    .dataframe thead th {\n",
              "        text-align: right;\n",
              "    }\n",
              "</style>\n",
              "<table border=\"1\" class=\"dataframe\">\n",
              "  <thead>\n",
              "    <tr style=\"text-align: right;\">\n",
              "      <th></th>\n",
              "      <th>A</th>\n",
              "      <th>B</th>\n",
              "      <th>C</th>\n",
              "    </tr>\n",
              "  </thead>\n",
              "  <tbody>\n",
              "    <tr>\n",
              "      <th>first</th>\n",
              "      <td>1</td>\n",
              "      <td>1</td>\n",
              "      <td>1</td>\n",
              "    </tr>\n",
              "    <tr>\n",
              "      <th>second</th>\n",
              "      <td>2</td>\n",
              "      <td>3</td>\n",
              "      <td>1</td>\n",
              "    </tr>\n",
              "    <tr>\n",
              "      <th>third</th>\n",
              "      <td>4</td>\n",
              "      <td>9</td>\n",
              "      <td>2</td>\n",
              "    </tr>\n",
              "    <tr>\n",
              "      <th>fourth</th>\n",
              "      <td>8</td>\n",
              "      <td>27</td>\n",
              "      <td>4</td>\n",
              "    </tr>\n",
              "    <tr>\n",
              "      <th>fifth</th>\n",
              "      <td>16</td>\n",
              "      <td>1</td>\n",
              "      <td>1</td>\n",
              "    </tr>\n",
              "  </tbody>\n",
              "</table>\n",
              "</div>"
            ],
            "text/plain": [
              "         A   B  C\n",
              "first    1   1  1\n",
              "second   2   3  1\n",
              "third    4   9  2\n",
              "fourth   8  27  4\n",
              "fifth   16   1  1"
            ]
          },
          "metadata": {
            "tags": []
          },
          "execution_count": 231
        }
      ]
    },
    {
      "cell_type": "code",
      "metadata": {
        "id": "stGAu7Zmo2lB",
        "colab": {
          "base_uri": "https://localhost:8080/"
        },
        "outputId": "dc2c45c8-d369-4aa4-da29-973c296f707f"
      },
      "source": [
        "df.mean()"
      ],
      "execution_count": null,
      "outputs": [
        {
          "output_type": "execute_result",
          "data": {
            "text/plain": [
              "A    6.2\n",
              "B    8.2\n",
              "C    1.8\n",
              "dtype: float64"
            ]
          },
          "metadata": {
            "tags": []
          },
          "execution_count": 232
        }
      ]
    },
    {
      "cell_type": "code",
      "metadata": {
        "id": "QLwdMzpuo3u0",
        "colab": {
          "base_uri": "https://localhost:8080/"
        },
        "outputId": "77b432ee-2af9-4aea-8f47-73aa52e28594"
      },
      "source": [
        "df.var(axis=1)"
      ],
      "execution_count": null,
      "outputs": [
        {
          "output_type": "execute_result",
          "data": {
            "text/plain": [
              "first       0.0\n",
              "second      1.0\n",
              "third      13.0\n",
              "fourth    151.0\n",
              "fifth      75.0\n",
              "dtype: float64"
            ]
          },
          "metadata": {
            "tags": []
          },
          "execution_count": 233
        }
      ]
    },
    {
      "cell_type": "code",
      "metadata": {
        "id": "6oxrig65lKc1"
      },
      "source": [
        "np.random.seed(seed=0)\n",
        "x = np.random.randn(1000)\n",
        "y = np.random.randn(100)\n",
        "z = np.random.randn(10)"
      ],
      "execution_count": null,
      "outputs": []
    },
    {
      "cell_type": "code",
      "metadata": {
        "id": "VYXLh0qio51G",
        "colab": {
          "base_uri": "https://localhost:8080/"
        },
        "outputId": "93dacbdb-c1c8-4c10-d001-61c63163ab8e"
      },
      "source": [
        "df['A']"
      ],
      "execution_count": null,
      "outputs": [
        {
          "output_type": "execute_result",
          "data": {
            "text/plain": [
              "first      1\n",
              "second     2\n",
              "third      4\n",
              "fourth     8\n",
              "fifth     16\n",
              "Name: A, dtype: int64"
            ]
          },
          "metadata": {
            "tags": []
          },
          "execution_count": 234
        }
      ]
    },
    {
      "cell_type": "code",
      "metadata": {
        "id": "9zxWiUVQo7b9",
        "colab": {
          "base_uri": "https://localhost:8080/"
        },
        "outputId": "0d697477-375e-4049-f7a2-fa1dc22354c6"
      },
      "source": [
        "df['A'].mean()"
      ],
      "execution_count": null,
      "outputs": [
        {
          "output_type": "execute_result",
          "data": {
            "text/plain": [
              "6.2"
            ]
          },
          "metadata": {
            "tags": []
          },
          "execution_count": 235
        }
      ]
    },
    {
      "cell_type": "code",
      "metadata": {
        "id": "5rhCnvQZo8kV",
        "colab": {
          "base_uri": "https://localhost:8080/"
        },
        "outputId": "c5ffe6c7-84c9-418b-be36-75570b46d044"
      },
      "source": [
        "df['A'].var()"
      ],
      "execution_count": null,
      "outputs": [
        {
          "output_type": "execute_result",
          "data": {
            "text/plain": [
              "37.20000000000001"
            ]
          },
          "metadata": {
            "tags": []
          },
          "execution_count": 236
        }
      ]
    },
    {
      "cell_type": "code",
      "metadata": {
        "id": "_rXIXbg3o-KV",
        "colab": {
          "base_uri": "https://localhost:8080/"
        },
        "outputId": "d87683d3-11b0-48d6-a619-df79b7c6e943"
      },
      "source": [
        "df.values"
      ],
      "execution_count": null,
      "outputs": [
        {
          "output_type": "execute_result",
          "data": {
            "text/plain": [
              "array([[ 1,  1,  1],\n",
              "       [ 2,  3,  1],\n",
              "       [ 4,  9,  2],\n",
              "       [ 8, 27,  4],\n",
              "       [16,  1,  1]])"
            ]
          },
          "metadata": {
            "tags": []
          },
          "execution_count": 237
        }
      ]
    },
    {
      "cell_type": "code",
      "metadata": {
        "id": "6zFpPLsgpAGB",
        "colab": {
          "base_uri": "https://localhost:8080/"
        },
        "outputId": "a48f3049-c996-4e0f-d87e-20368c7997b6"
      },
      "source": [
        "df.to_numpy()"
      ],
      "execution_count": null,
      "outputs": [
        {
          "output_type": "execute_result",
          "data": {
            "text/plain": [
              "array([[ 1,  1,  1],\n",
              "       [ 2,  3,  1],\n",
              "       [ 4,  9,  2],\n",
              "       [ 8, 27,  4],\n",
              "       [16,  1,  1]])"
            ]
          },
          "metadata": {
            "tags": []
          },
          "execution_count": 239
        }
      ]
    },
    {
      "cell_type": "code",
      "metadata": {
        "id": "rCAPbX_mpF91",
        "colab": {
          "base_uri": "https://localhost:8080/",
          "height": 297
        },
        "outputId": "edf5a3ca-5c62-406b-edfc-d389a3acd85c"
      },
      "source": [
        "df.describe()"
      ],
      "execution_count": null,
      "outputs": [
        {
          "output_type": "execute_result",
          "data": {
            "text/html": [
              "<div>\n",
              "<style scoped>\n",
              "    .dataframe tbody tr th:only-of-type {\n",
              "        vertical-align: middle;\n",
              "    }\n",
              "\n",
              "    .dataframe tbody tr th {\n",
              "        vertical-align: top;\n",
              "    }\n",
              "\n",
              "    .dataframe thead th {\n",
              "        text-align: right;\n",
              "    }\n",
              "</style>\n",
              "<table border=\"1\" class=\"dataframe\">\n",
              "  <thead>\n",
              "    <tr style=\"text-align: right;\">\n",
              "      <th></th>\n",
              "      <th>A</th>\n",
              "      <th>B</th>\n",
              "      <th>C</th>\n",
              "    </tr>\n",
              "  </thead>\n",
              "  <tbody>\n",
              "    <tr>\n",
              "      <th>count</th>\n",
              "      <td>5.00000</td>\n",
              "      <td>5.000000</td>\n",
              "      <td>5.00000</td>\n",
              "    </tr>\n",
              "    <tr>\n",
              "      <th>mean</th>\n",
              "      <td>6.20000</td>\n",
              "      <td>8.200000</td>\n",
              "      <td>1.80000</td>\n",
              "    </tr>\n",
              "    <tr>\n",
              "      <th>std</th>\n",
              "      <td>6.09918</td>\n",
              "      <td>11.009087</td>\n",
              "      <td>1.30384</td>\n",
              "    </tr>\n",
              "    <tr>\n",
              "      <th>min</th>\n",
              "      <td>1.00000</td>\n",
              "      <td>1.000000</td>\n",
              "      <td>1.00000</td>\n",
              "    </tr>\n",
              "    <tr>\n",
              "      <th>25%</th>\n",
              "      <td>2.00000</td>\n",
              "      <td>1.000000</td>\n",
              "      <td>1.00000</td>\n",
              "    </tr>\n",
              "    <tr>\n",
              "      <th>50%</th>\n",
              "      <td>4.00000</td>\n",
              "      <td>3.000000</td>\n",
              "      <td>1.00000</td>\n",
              "    </tr>\n",
              "    <tr>\n",
              "      <th>75%</th>\n",
              "      <td>8.00000</td>\n",
              "      <td>9.000000</td>\n",
              "      <td>2.00000</td>\n",
              "    </tr>\n",
              "    <tr>\n",
              "      <th>max</th>\n",
              "      <td>16.00000</td>\n",
              "      <td>27.000000</td>\n",
              "      <td>4.00000</td>\n",
              "    </tr>\n",
              "  </tbody>\n",
              "</table>\n",
              "</div>"
            ],
            "text/plain": [
              "              A          B        C\n",
              "count   5.00000   5.000000  5.00000\n",
              "mean    6.20000   8.200000  1.80000\n",
              "std     6.09918  11.009087  1.30384\n",
              "min     1.00000   1.000000  1.00000\n",
              "25%     2.00000   1.000000  1.00000\n",
              "50%     4.00000   3.000000  1.00000\n",
              "75%     8.00000   9.000000  2.00000\n",
              "max    16.00000  27.000000  4.00000"
            ]
          },
          "metadata": {
            "tags": []
          },
          "execution_count": 240
        }
      ]
    },
    {
      "cell_type": "code",
      "metadata": {
        "id": "sEuNKEMNpI39",
        "colab": {
          "base_uri": "https://localhost:8080/"
        },
        "outputId": "1bc05a64-c2c9-4f96-9680-9dfc9dd1b39f"
      },
      "source": [
        "df.describe().at['mean', 'A']"
      ],
      "execution_count": null,
      "outputs": [
        {
          "output_type": "execute_result",
          "data": {
            "text/plain": [
              "6.2"
            ]
          },
          "metadata": {
            "tags": []
          },
          "execution_count": 241
        }
      ]
    },
    {
      "cell_type": "code",
      "metadata": {
        "id": "JaFF9E_0pMCQ",
        "colab": {
          "base_uri": "https://localhost:8080/"
        },
        "outputId": "0bbd1b23-e16a-4144-b2f4-c1637a961651"
      },
      "source": [
        "df.describe().at['50%', 'B']"
      ],
      "execution_count": null,
      "outputs": [
        {
          "output_type": "execute_result",
          "data": {
            "text/plain": [
              "3.0"
            ]
          },
          "metadata": {
            "tags": []
          },
          "execution_count": 242
        }
      ]
    },
    {
      "cell_type": "code",
      "metadata": {
        "id": "Aw423aiClNd7",
        "colab": {
          "base_uri": "https://localhost:8080/",
          "height": 265
        },
        "outputId": "f8e7b34c-f5c8-4e5f-8d01-93ffc1e3f50e"
      },
      "source": [
        "fig, ax = plt.subplots()\n",
        "ax.boxplot((x, y, z), vert=False, showmeans=True, meanline=True,\n",
        "           labels=('x', 'y', 'z'), patch_artist=True,\n",
        "           medianprops={'linewidth': 2, 'color': 'purple'},\n",
        "           meanprops={'linewidth': 2, 'color': 'red'})\n",
        "plt.show()"
      ],
      "execution_count": null,
      "outputs": [
        {
          "output_type": "display_data",
          "data": {
            "image/png": "[encoded data removed]",
            "text/plain": [
              "<Figure size 432x288 with 1 Axes>"
            ]
          },
          "metadata": {
            "tags": []
          }
        }
      ]
    },
    {
      "cell_type": "code",
      "metadata": {
        "id": "inX84VYylQzU"
      },
      "source": [
        "hist, bin_edges = np.histogram(x, bins=10)"
      ],
      "execution_count": null,
      "outputs": []
    },
    {
      "cell_type": "code",
      "metadata": {
        "id": "_XsuxzeKlSZF",
        "colab": {
          "base_uri": "https://localhost:8080/"
        },
        "outputId": "2f2a93cc-cac6-4e95-da8f-fc4be723863c"
      },
      "source": [
        "hist"
      ],
      "execution_count": null,
      "outputs": [
        {
          "output_type": "execute_result",
          "data": {
            "text/plain": [
              "array([  9,  20,  70, 146, 217, 239, 160,  86,  38,  15])"
            ]
          },
          "metadata": {
            "tags": []
          },
          "execution_count": 154
        }
      ]
    },
    {
      "cell_type": "code",
      "metadata": {
        "id": "MWjsYmW4lT58",
        "colab": {
          "base_uri": "https://localhost:8080/"
        },
        "outputId": "efd8122c-6454-4b70-935d-1cc894a55ed0"
      },
      "source": [
        "bin_edges"
      ],
      "execution_count": null,
      "outputs": [
        {
          "output_type": "execute_result",
          "data": {
            "text/plain": [
              "array([-3.04614305, -2.46559324, -1.88504342, -1.3044936 , -0.72394379,\n",
              "       -0.14339397,  0.43715585,  1.01770566,  1.59825548,  2.1788053 ,\n",
              "        2.75935511])"
            ]
          },
          "metadata": {
            "tags": []
          },
          "execution_count": 155
        }
      ]
    },
    {
      "cell_type": "code",
      "metadata": {
        "id": "VN1UbHXtlVll",
        "colab": {
          "base_uri": "https://localhost:8080/",
          "height": 286
        },
        "outputId": "1f7fdd7d-001b-4a9a-e0be-5b08afefc6ff"
      },
      "source": [
        "fig, ax = plt.subplots()\n",
        "ax.hist(x, bin_edges, cumulative=False)\n",
        "ax.set_xlabel('x')\n",
        "ax.set_ylabel('Frequency')\n",
        "plt.show()"
      ],
      "execution_count": null,
      "outputs": [
        {
          "output_type": "display_data",
          "data": {
            "image/png": "[encoded data removed]",
            "text/plain": [
              "<Figure size 432x288 with 1 Axes>"
            ]
          },
          "metadata": {
            "tags": []
          }
        }
      ]
    },
    {
      "cell_type": "code",
      "metadata": {
        "id": "f9vab4oglX9K",
        "colab": {
          "base_uri": "https://localhost:8080/",
          "height": 282
        },
        "outputId": "6a2ec35a-126d-498e-8afc-a6205b1d6167"
      },
      "source": [
        "fig, ax = plt.subplots()\n",
        "ax.hist(x, bin_edges, cumulative=True)\n",
        "ax.set_xlabel('x')\n",
        "ax.set_ylabel('Frequency')\n",
        "plt.show()\n"
      ],
      "execution_count": null,
      "outputs": [
        {
          "output_type": "display_data",
          "data": {
            "image/png": "[encoded data removed]",
            "text/plain": [
              "<Figure size 432x288 with 1 Axes>"
            ]
          },
          "metadata": {
            "tags": []
          }
        }
      ]
    },
    {
      "cell_type": "code",
      "metadata": {
        "id": "_oVesi1KlahN"
      },
      "source": [
        "x, y, z = 128, 256, 1024"
      ],
      "execution_count": null,
      "outputs": []
    },
    {
      "cell_type": "code",
      "metadata": {
        "id": "BlYW3yrulb13",
        "colab": {
          "base_uri": "https://localhost:8080/",
          "height": 248
        },
        "outputId": "87555bb9-829d-4ecf-fd15-1d4136939121"
      },
      "source": [
        "fig, ax = plt.subplots()\n",
        "ax.pie((x, y, z), labels=('x', 'y', 'z'), autopct='%1.1f%%')\n",
        "plt.show()"
      ],
      "execution_count": null,
      "outputs": [
        {
          "output_type": "display_data",
          "data": {
            "image/png": "[encoded data removed]",
            "text/plain": [
              "<Figure size 432x288 with 1 Axes>"
            ]
          },
          "metadata": {
            "tags": []
          }
        }
      ]
    },
    {
      "cell_type": "code",
      "metadata": {
        "id": "kKuW3o6oldhU"
      },
      "source": [
        "x = np.arange(21)\n",
        "y = np.random.randint(21, size=21)\n",
        "err = np.random.randn(21)"
      ],
      "execution_count": null,
      "outputs": []
    },
    {
      "cell_type": "code",
      "metadata": {
        "id": "Q3IxtcWKlgUb",
        "colab": {
          "base_uri": "https://localhost:8080/",
          "height": 282
        },
        "outputId": "bd14d84a-0ab4-4cc2-bdb5-f70c9d047c0f"
      },
      "source": [
        "fig, ax = plt.subplots()\n",
        "ax.bar(x, y, yerr=err)\n",
        "ax.set_xlabel('x')\n",
        "ax.set_ylabel('y')\n",
        "plt.show()"
      ],
      "execution_count": null,
      "outputs": [
        {
          "output_type": "display_data",
          "data": {
            "image/png": "[encoded data removed]",
            "text/plain": [
              "<Figure size 432x288 with 1 Axes>"
            ]
          },
          "metadata": {
            "tags": []
          }
        }
      ]
    },
    {
      "cell_type": "code",
      "metadata": {
        "id": "BxgU-2rGlq5b"
      },
      "source": [
        "x = np.arange(21)\n",
        "y = 5 + 2 * x + 2 * np.random.randn(21)\n",
        "slope, intercept, r, *__ = scipy.stats.linregress(x, y)\n",
        "line = f'Regression line: y={intercept:.2f}+{slope:.2f}x, r={r:.2f}'"
      ],
      "execution_count": null,
      "outputs": []
    },
    {
      "cell_type": "code",
      "metadata": {
        "id": "wrMzP8KekxJi",
        "colab": {
          "base_uri": "https://localhost:8080/",
          "height": 282
        },
        "outputId": "b4d968b2-6196-4bbd-bb35-f02cd40fca48"
      },
      "source": [
        "fig, ax = plt.subplots()\n",
        "ax.plot(x, y, linewidth=0, marker='s', label='Data points')\n",
        "ax.plot(x, intercept + slope * x, label=line)\n",
        "ax.set_xlabel('x')\n",
        "ax.set_ylabel('y')\n",
        "ax.legend(facecolor='white')\n",
        "plt.show()"
      ],
      "execution_count": null,
      "outputs": [
        {
          "output_type": "display_data",
          "data": {
            "image/png": "[encoded data removed]",
            "text/plain": [
              "<Figure size 432x288 with 1 Axes>"
            ]
          },
          "metadata": {
            "tags": []
          }
        }
      ]
    },
    {
      "cell_type": "code",
      "metadata": {
        "id": "dg-QPEVVksmr",
        "colab": {
          "base_uri": "https://localhost:8080/",
          "height": 265
        },
        "outputId": "070fa467-813a-4641-bf07-a193b0bc20e9"
      },
      "source": [
        "matrix = np.corrcoef(x, y).round(decimals=2)\n",
        "fig, ax = plt.subplots()\n",
        "ax.imshow(matrix)\n",
        "ax.grid(False)\n",
        "ax.xaxis.set(ticks=(0, 1), ticklabels=('x', 'y'))\n",
        "ax.yaxis.set(ticks=(0, 1), ticklabels=('x', 'y'))\n",
        "ax.set_ylim(1.5, -0.5)\n",
        "for i in range(2):\n",
        "    for j in range(2):\n",
        "        ax.text(j, i, matrix[i, j], ha='center', va='center', color='w')\n",
        "plt.show()"
      ],
      "execution_count": null,
      "outputs": [
        {
          "output_type": "display_data",
          "data": {
            "image/png": "[encoded data removed]",
            "text/plain": [
              "<Figure size 432x288 with 1 Axes>"
            ]
          },
          "metadata": {
            "tags": []
          }
        }
      ]
    },
    {
      "cell_type": "code",
      "metadata": {
        "id": "-RkWlBUmkpDe",
        "colab": {
          "base_uri": "https://localhost:8080/",
          "height": 265
        },
        "outputId": "3debc587-317e-446c-8fee-0eb979e6027d"
      },
      "source": [
        "matrix = np.corrcoef(x, y).round(decimals=2)\n",
        "fig, ax = plt.subplots()\n",
        "ax.imshow(matrix)\n",
        "ax.grid(False)\n",
        "ax.xaxis.set(ticks=(0, 1), ticklabels=('x', 'y'))\n",
        "ax.yaxis.set(ticks=(0, 1), ticklabels=('x', 'y'))\n",
        "ax.set_ylim(1.5, -0.5)\n",
        "for i in range(2):\n",
        "    for j in range(2):\n",
        "        ax.text(j, i, matrix[i, j], ha='center', va='center', color='w')\n",
        "plt.show()"
      ],
      "execution_count": null,
      "outputs": [
        {
          "output_type": "display_data",
          "data": {
            "image/png": "[encoded data removed]",
            "text/plain": [
              "<Figure size 432x288 with 1 Axes>"
            ]
          },
          "metadata": {
            "tags": []
          }
        }
      ]
    }
  ]
}