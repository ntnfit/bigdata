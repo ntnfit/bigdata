{
  "nbformat": 4,
  "nbformat_minor": 0,
  "metadata": {
    "kernelspec": {
      "display_name": "Python 3",
      "language": "python",
      "name": "python3"
    },
    "language_info": {
      "name": "python",
      "version": "3.6.4",
      "mimetype": "text/x-python",
      "codemirror_mode": {
        "name": "ipython",
        "version": 3
      },
      "pygments_lexer": "ipython3",
      "nbconvert_exporter": "python",
      "file_extension": ".py"
    },
    "colab": {
      "name": "Nguyễn Thanh Nguyên_Bai8_16035381.ipynb",
      "provenance": [],
      "collapsed_sections": [],
      "include_colab_link": true
    }
  },
  "cells": [
    {
      "cell_type": "markdown",
      "metadata": {
        "id": "view-in-github",
        "colab_type": "text"
      },
      "source": [
        "<a href=\"https://colab.research.google.com/github/ntnfit98/bigdata/blob/master/Nguy%E1%BB%85n_Thanh_Nguy%C3%AAn_Bai8_16035381.ipynb\" target=\"_parent\"><img src=\"https://colab.research.google.com/assets/colab-badge.svg\" alt=\"Open In Colab\"/></a>"
      ]
    },
    {
      "cell_type": "markdown",
      "metadata": {
        "_cell_guid": "54b9d072-20f7-4764-82a9-fefafcd43bff",
        "_uuid": "a1ee706a184b19d640ceafacfb9d98818443c4b7",
        "id": "MRXsGsTKtshU"
      },
      "source": [
        "A simple EDA and classification notebook."
      ]
    },
    {
      "cell_type": "markdown",
      "metadata": {
        "_cell_guid": "0383480b-b98e-4be0-a2a9-4b700e4d65bd",
        "_uuid": "f2e9450b3f302b09913de84f979b2a0b8599c665",
        "id": "rvZvFxB3tshX"
      },
      "source": [
        "### Import the necessary modules"
      ]
    },
    {
      "cell_type": "code",
      "metadata": {
        "_cell_guid": "d10be5d3-0257-4725-86f4-020b92c1700e",
        "_uuid": "2b72e3789b04109d3676f010b4978b1ccaed6f77",
        "trusted": true,
        "id": "6K_OLat6tshY"
      },
      "source": [
        "import numpy as np\n",
        "import pandas as pd\n",
        "import matplotlib.pyplot as plt\n",
        "import seaborn as sns\n",
        "%matplotlib inline\n",
        "from sklearn.model_selection import train_test_split\n",
        "from sklearn.tree import DecisionTreeClassifier\n",
        "from sklearn.ensemble import RandomForestClassifier\n",
        "from sklearn.svm import SVC\n",
        "from sklearn.linear_model import LogisticRegression\n",
        "from sklearn.preprocessing import StandardScaler\n",
        "from sklearn.metrics import classification_report, accuracy_score, roc_auc_score\n",
        "plt.style.use('ggplot')"
      ],
      "execution_count": null,
      "outputs": []
    },
    {
      "cell_type": "markdown",
      "metadata": {
        "_cell_guid": "f09468a2-2ed4-443a-8dbd-ee4686adf328",
        "_uuid": "1f5e0dd13486b15a1a91d2063a622aeee754f2e7",
        "id": "zExTYw-Ltshc"
      },
      "source": [
        "#### Load the data into a dataframe"
      ]
    },
    {
      "cell_type": "code",
      "metadata": {
        "_cell_guid": "87dd234d-fc56-4458-9d75-599956a6d7a9",
        "_uuid": "980c90009c193180df0e8752c70cdc75d7495141",
        "trusted": true,
        "id": "pYOQkV1Rtshd",
        "colab": {
          "base_uri": "https://localhost:8080/"
        },
        "outputId": "2d377391-00ef-4cc1-d6d9-348d5d404f3a"
      },
      "source": [
        "df = pd.read_csv(\"/content/sample_data/HR_comma_sep.csv\", delimiter=',')\n",
        "df.info()"
      ],
      "execution_count": null,
      "outputs": [
        {
          "output_type": "stream",
          "text": [
            "<class 'pandas.core.frame.DataFrame'>\n",
            "RangeIndex: 14999 entries, 0 to 14998\n",
            "Data columns (total 10 columns):\n",
            " #   Column                 Non-Null Count  Dtype  \n",
            "---  ------                 --------------  -----  \n",
            " 0   satisfaction_level     14999 non-null  float64\n",
            " 1   last_evaluation        14999 non-null  float64\n",
            " 2   number_project         14999 non-null  int64  \n",
            " 3   average_montly_hours   14999 non-null  int64  \n",
            " 4   time_spend_company     14999 non-null  int64  \n",
            " 5   Work_accident          14999 non-null  int64  \n",
            " 6   left                   14999 non-null  int64  \n",
            " 7   promotion_last_5years  14999 non-null  int64  \n",
            " 8   sales                  14999 non-null  object \n",
            " 9   salary                 14999 non-null  object \n",
            "dtypes: float64(2), int64(6), object(2)\n",
            "memory usage: 1.1+ MB\n"
          ],
          "name": "stdout"
        }
      ]
    },
    {
      "cell_type": "markdown",
      "metadata": {
        "_cell_guid": "16bf15c6-f403-49c0-9740-3f8efa3e5c8c",
        "_uuid": "9b48074a1b3ae6a453f7260907684ac0ed15d0d3",
        "id": "P6EMqId_tshf"
      },
      "source": [
        "### Basic EDA"
      ]
    },
    {
      "cell_type": "code",
      "metadata": {
        "_cell_guid": "5bab3b1f-fb72-47b3-b1c1-aefeaa5354e4",
        "_uuid": "f52d392b8f03930a1243fe10077f4f948d9a6e6b",
        "trusted": true,
        "id": "MmQrNojltshf",
        "colab": {
          "base_uri": "https://localhost:8080/",
          "height": 284
        },
        "outputId": "6419724d-5b64-45da-e584-cf96af2e13c1"
      },
      "source": [
        "df.describe()"
      ],
      "execution_count": null,
      "outputs": [
        {
          "output_type": "execute_result",
          "data": {
            "text/html": [
              "<div>\n",
              "<style scoped>\n",
              "    .dataframe tbody tr th:only-of-type {\n",
              "        vertical-align: middle;\n",
              "    }\n",
              "\n",
              "    .dataframe tbody tr th {\n",
              "        vertical-align: top;\n",
              "    }\n",
              "\n",
              "    .dataframe thead th {\n",
              "        text-align: right;\n",
              "    }\n",
              "</style>\n",
              "<table border=\"1\" class=\"dataframe\">\n",
              "  <thead>\n",
              "    <tr style=\"text-align: right;\">\n",
              "      <th></th>\n",
              "      <th>satisfaction_level</th>\n",
              "      <th>last_evaluation</th>\n",
              "      <th>number_project</th>\n",
              "      <th>average_montly_hours</th>\n",
              "      <th>time_spend_company</th>\n",
              "      <th>Work_accident</th>\n",
              "      <th>left</th>\n",
              "      <th>promotion_last_5years</th>\n",
              "    </tr>\n",
              "  </thead>\n",
              "  <tbody>\n",
              "    <tr>\n",
              "      <th>count</th>\n",
              "      <td>14999.000000</td>\n",
              "      <td>14999.000000</td>\n",
              "      <td>14999.000000</td>\n",
              "      <td>14999.000000</td>\n",
              "      <td>14999.000000</td>\n",
              "      <td>14999.000000</td>\n",
              "      <td>14999.000000</td>\n",
              "      <td>14999.000000</td>\n",
              "    </tr>\n",
              "    <tr>\n",
              "      <th>mean</th>\n",
              "      <td>0.612834</td>\n",
              "      <td>0.716102</td>\n",
              "      <td>3.803054</td>\n",
              "      <td>201.050337</td>\n",
              "      <td>3.498233</td>\n",
              "      <td>0.144610</td>\n",
              "      <td>0.238083</td>\n",
              "      <td>0.021268</td>\n",
              "    </tr>\n",
              "    <tr>\n",
              "      <th>std</th>\n",
              "      <td>0.248631</td>\n",
              "      <td>0.171169</td>\n",
              "      <td>1.232592</td>\n",
              "      <td>49.943099</td>\n",
              "      <td>1.460136</td>\n",
              "      <td>0.351719</td>\n",
              "      <td>0.425924</td>\n",
              "      <td>0.144281</td>\n",
              "    </tr>\n",
              "    <tr>\n",
              "      <th>min</th>\n",
              "      <td>0.090000</td>\n",
              "      <td>0.360000</td>\n",
              "      <td>2.000000</td>\n",
              "      <td>96.000000</td>\n",
              "      <td>2.000000</td>\n",
              "      <td>0.000000</td>\n",
              "      <td>0.000000</td>\n",
              "      <td>0.000000</td>\n",
              "    </tr>\n",
              "    <tr>\n",
              "      <th>25%</th>\n",
              "      <td>0.440000</td>\n",
              "      <td>0.560000</td>\n",
              "      <td>3.000000</td>\n",
              "      <td>156.000000</td>\n",
              "      <td>3.000000</td>\n",
              "      <td>0.000000</td>\n",
              "      <td>0.000000</td>\n",
              "      <td>0.000000</td>\n",
              "    </tr>\n",
              "    <tr>\n",
              "      <th>50%</th>\n",
              "      <td>0.640000</td>\n",
              "      <td>0.720000</td>\n",
              "      <td>4.000000</td>\n",
              "      <td>200.000000</td>\n",
              "      <td>3.000000</td>\n",
              "      <td>0.000000</td>\n",
              "      <td>0.000000</td>\n",
              "      <td>0.000000</td>\n",
              "    </tr>\n",
              "    <tr>\n",
              "      <th>75%</th>\n",
              "      <td>0.820000</td>\n",
              "      <td>0.870000</td>\n",
              "      <td>5.000000</td>\n",
              "      <td>245.000000</td>\n",
              "      <td>4.000000</td>\n",
              "      <td>0.000000</td>\n",
              "      <td>0.000000</td>\n",
              "      <td>0.000000</td>\n",
              "    </tr>\n",
              "    <tr>\n",
              "      <th>max</th>\n",
              "      <td>1.000000</td>\n",
              "      <td>1.000000</td>\n",
              "      <td>7.000000</td>\n",
              "      <td>310.000000</td>\n",
              "      <td>10.000000</td>\n",
              "      <td>1.000000</td>\n",
              "      <td>1.000000</td>\n",
              "      <td>1.000000</td>\n",
              "    </tr>\n",
              "  </tbody>\n",
              "</table>\n",
              "</div>"
            ],
            "text/plain": [
              "       satisfaction_level  last_evaluation  ...          left  promotion_last_5years\n",
              "count        14999.000000     14999.000000  ...  14999.000000           14999.000000\n",
              "mean             0.612834         0.716102  ...      0.238083               0.021268\n",
              "std              0.248631         0.171169  ...      0.425924               0.144281\n",
              "min              0.090000         0.360000  ...      0.000000               0.000000\n",
              "25%              0.440000         0.560000  ...      0.000000               0.000000\n",
              "50%              0.640000         0.720000  ...      0.000000               0.000000\n",
              "75%              0.820000         0.870000  ...      0.000000               0.000000\n",
              "max              1.000000         1.000000  ...      1.000000               1.000000\n",
              "\n",
              "[8 rows x 8 columns]"
            ]
          },
          "metadata": {
            "tags": []
          },
          "execution_count": 5
        }
      ]
    },
    {
      "cell_type": "code",
      "metadata": {
        "_cell_guid": "7041bfb4-8689-4aec-93c3-82d6967ec5a1",
        "_uuid": "099d31b5640bf6566e82b319a98dd1045fd6f5f5",
        "trusted": true,
        "id": "7XStc1sgtshi",
        "colab": {
          "base_uri": "https://localhost:8080/",
          "height": 284
        },
        "outputId": "b82f60ff-2f06-4157-91ea-5eddea72915d"
      },
      "source": [
        "corr = df.corr()\n",
        "corr"
      ],
      "execution_count": null,
      "outputs": [
        {
          "output_type": "execute_result",
          "data": {
            "text/html": [
              "<div>\n",
              "<style scoped>\n",
              "    .dataframe tbody tr th:only-of-type {\n",
              "        vertical-align: middle;\n",
              "    }\n",
              "\n",
              "    .dataframe tbody tr th {\n",
              "        vertical-align: top;\n",
              "    }\n",
              "\n",
              "    .dataframe thead th {\n",
              "        text-align: right;\n",
              "    }\n",
              "</style>\n",
              "<table border=\"1\" class=\"dataframe\">\n",
              "  <thead>\n",
              "    <tr style=\"text-align: right;\">\n",
              "      <th></th>\n",
              "      <th>satisfaction_level</th>\n",
              "      <th>last_evaluation</th>\n",
              "      <th>number_project</th>\n",
              "      <th>average_montly_hours</th>\n",
              "      <th>time_spend_company</th>\n",
              "      <th>Work_accident</th>\n",
              "      <th>left</th>\n",
              "      <th>promotion_last_5years</th>\n",
              "    </tr>\n",
              "  </thead>\n",
              "  <tbody>\n",
              "    <tr>\n",
              "      <th>satisfaction_level</th>\n",
              "      <td>1.000000</td>\n",
              "      <td>0.105021</td>\n",
              "      <td>-0.142970</td>\n",
              "      <td>-0.020048</td>\n",
              "      <td>-0.100866</td>\n",
              "      <td>0.058697</td>\n",
              "      <td>-0.388375</td>\n",
              "      <td>0.025605</td>\n",
              "    </tr>\n",
              "    <tr>\n",
              "      <th>last_evaluation</th>\n",
              "      <td>0.105021</td>\n",
              "      <td>1.000000</td>\n",
              "      <td>0.349333</td>\n",
              "      <td>0.339742</td>\n",
              "      <td>0.131591</td>\n",
              "      <td>-0.007104</td>\n",
              "      <td>0.006567</td>\n",
              "      <td>-0.008684</td>\n",
              "    </tr>\n",
              "    <tr>\n",
              "      <th>number_project</th>\n",
              "      <td>-0.142970</td>\n",
              "      <td>0.349333</td>\n",
              "      <td>1.000000</td>\n",
              "      <td>0.417211</td>\n",
              "      <td>0.196786</td>\n",
              "      <td>-0.004741</td>\n",
              "      <td>0.023787</td>\n",
              "      <td>-0.006064</td>\n",
              "    </tr>\n",
              "    <tr>\n",
              "      <th>average_montly_hours</th>\n",
              "      <td>-0.020048</td>\n",
              "      <td>0.339742</td>\n",
              "      <td>0.417211</td>\n",
              "      <td>1.000000</td>\n",
              "      <td>0.127755</td>\n",
              "      <td>-0.010143</td>\n",
              "      <td>0.071287</td>\n",
              "      <td>-0.003544</td>\n",
              "    </tr>\n",
              "    <tr>\n",
              "      <th>time_spend_company</th>\n",
              "      <td>-0.100866</td>\n",
              "      <td>0.131591</td>\n",
              "      <td>0.196786</td>\n",
              "      <td>0.127755</td>\n",
              "      <td>1.000000</td>\n",
              "      <td>0.002120</td>\n",
              "      <td>0.144822</td>\n",
              "      <td>0.067433</td>\n",
              "    </tr>\n",
              "    <tr>\n",
              "      <th>Work_accident</th>\n",
              "      <td>0.058697</td>\n",
              "      <td>-0.007104</td>\n",
              "      <td>-0.004741</td>\n",
              "      <td>-0.010143</td>\n",
              "      <td>0.002120</td>\n",
              "      <td>1.000000</td>\n",
              "      <td>-0.154622</td>\n",
              "      <td>0.039245</td>\n",
              "    </tr>\n",
              "    <tr>\n",
              "      <th>left</th>\n",
              "      <td>-0.388375</td>\n",
              "      <td>0.006567</td>\n",
              "      <td>0.023787</td>\n",
              "      <td>0.071287</td>\n",
              "      <td>0.144822</td>\n",
              "      <td>-0.154622</td>\n",
              "      <td>1.000000</td>\n",
              "      <td>-0.061788</td>\n",
              "    </tr>\n",
              "    <tr>\n",
              "      <th>promotion_last_5years</th>\n",
              "      <td>0.025605</td>\n",
              "      <td>-0.008684</td>\n",
              "      <td>-0.006064</td>\n",
              "      <td>-0.003544</td>\n",
              "      <td>0.067433</td>\n",
              "      <td>0.039245</td>\n",
              "      <td>-0.061788</td>\n",
              "      <td>1.000000</td>\n",
              "    </tr>\n",
              "  </tbody>\n",
              "</table>\n",
              "</div>"
            ],
            "text/plain": [
              "                       satisfaction_level  ...  promotion_last_5years\n",
              "satisfaction_level               1.000000  ...               0.025605\n",
              "last_evaluation                  0.105021  ...              -0.008684\n",
              "number_project                  -0.142970  ...              -0.006064\n",
              "average_montly_hours            -0.020048  ...              -0.003544\n",
              "time_spend_company              -0.100866  ...               0.067433\n",
              "Work_accident                    0.058697  ...               0.039245\n",
              "left                            -0.388375  ...              -0.061788\n",
              "promotion_last_5years            0.025605  ...               1.000000\n",
              "\n",
              "[8 rows x 8 columns]"
            ]
          },
          "metadata": {
            "tags": []
          },
          "execution_count": 6
        }
      ]
    },
    {
      "cell_type": "code",
      "metadata": {
        "_cell_guid": "6b62436c-c973-4773-a7c3-023d8990df5b",
        "_uuid": "9ecd8ecafb1334a6422f1e9b79e7091161a3a6ec",
        "trusted": true,
        "id": "KoEsnvVktshk",
        "colab": {
          "base_uri": "https://localhost:8080/",
          "height": 390
        },
        "outputId": "94e95014-c051-4317-fefe-b905dd180281"
      },
      "source": [
        "sns.heatmap(corr)"
      ],
      "execution_count": null,
      "outputs": [
        {
          "output_type": "execute_result",
          "data": {
            "text/plain": [
              "<matplotlib.axes._subplots.AxesSubplot at 0x7f24432ba908>"
            ]
          },
          "metadata": {
            "tags": []
          },
          "execution_count": 7
        },
        {
          "output_type": "display_data",
          "data": {
            "image/png": "[encoded data removed]",
            "text/plain": [
              "<Figure size 432x288 with 2 Axes>"
            ]
          },
          "metadata": {
            "tags": [],
            "needs_background": "light"
          }
        }
      ]
    },
    {
      "cell_type": "code",
      "metadata": {
        "_cell_guid": "62218701-d7bd-4f05-84dc-4d47415afdcc",
        "_uuid": "45110a584c5532336b03c804d60d8517b9e03909",
        "trusted": true,
        "id": "im_IWADrtshm",
        "colab": {
          "base_uri": "https://localhost:8080/",
          "height": 465
        },
        "outputId": "2eb14ea3-49ec-4ea1-fb68-c0f9d6ae5640"
      },
      "source": [
        "f, axes = plt.subplots(ncols=3,figsize=(17,6))\n",
        "\n",
        "sns.countplot(x='salary',hue='left',ax=axes[0],data=df)\n",
        "sns.countplot(x='promotion_last_5years',hue='left',ax=axes[1],data=df)\n",
        "sns.countplot(x='sales',hue='left',ax=axes[2],data=df)\n",
        "plt.xticks(rotation=90)\n",
        "plt.xlabel('Department')"
      ],
      "execution_count": null,
      "outputs": [
        {
          "output_type": "execute_result",
          "data": {
            "text/plain": [
              "Text(0.5, 0, 'Department')"
            ]
          },
          "metadata": {
            "tags": []
          },
          "execution_count": 8
        },
        {
          "output_type": "display_data",
          "data": {
            "image/png": "[encoded data removed]",
            "text/plain": [
              "<Figure size 1224x432 with 3 Axes>"
            ]
          },
          "metadata": {
            "tags": [],
            "needs_background": "light"
          }
        }
      ]
    },
    {
      "cell_type": "markdown",
      "metadata": {
        "_cell_guid": "3979b790-86d2-4a3f-8b99-a7260120a166",
        "_uuid": "baa64ad1b621d340f20bd4e20e24169b8444e8b7",
        "id": "4shdwij-tsho"
      },
      "source": [
        "* A larger number of employees with lower salary left compared to others.\n",
        "* Sales department saw the highest number of employees leave the company, followed by technical and support departments."
      ]
    },
    {
      "cell_type": "code",
      "metadata": {
        "_cell_guid": "ab609fbe-fad7-4a16-ac11-38aa99c5a968",
        "_uuid": "b1a74da40aeb2932cd42d6c5c8b07d37c928d7db",
        "trusted": true,
        "id": "M2IXiIkLtsho",
        "colab": {
          "base_uri": "https://localhost:8080/",
          "height": 425
        },
        "outputId": "9d07b849-91ca-4387-e18a-3846dbfeb3e8"
      },
      "source": [
        "f, axes = plt.subplots(ncols=3,figsize=(17,6))\n",
        "\n",
        "a0 = sns.countplot(x='number_project',hue='left',ax=axes[0],data=df)\n",
        "a0.set_title('Number of Projects Completed')\n",
        "a1 = sns.countplot(x='Work_accident',hue='left',ax=axes[1],data=df)\n",
        "a1.set_title('Work Accident (Y/N)')\n",
        "a2 = sns.countplot(x='time_spend_company',hue='left',ax=axes[2],data=df)\n",
        "a2.set_title('Number of Years at the Company')"
      ],
      "execution_count": null,
      "outputs": [
        {
          "output_type": "execute_result",
          "data": {
            "text/plain": [
              "Text(0.5, 1.0, 'Number of Years at the Company')"
            ]
          },
          "metadata": {
            "tags": []
          },
          "execution_count": 9
        },
        {
          "output_type": "display_data",
          "data": {
            "image/png": "[encoded data removed]",
            "text/plain": [
              "<Figure size 1224x432 with 3 Axes>"
            ]
          },
          "metadata": {
            "tags": [],
            "needs_background": "light"
          }
        }
      ]
    },
    {
      "cell_type": "markdown",
      "metadata": {
        "_cell_guid": "9c82fdca-0509-4c1b-8b75-d04e5eb13e6f",
        "_uuid": "ed5c0854ee6111beb9d5496c30af7daaed5422e1",
        "id": "RcCfJje4tshq"
      },
      "source": [
        "* People with 2 projects left the company at an alarming rate. There is an upward trend in leaving the company right the year 3.\n",
        "* A large portion of the employees left the company after  spending 3 years there. There was a downward trend with reasonable numbers up to the sixth year."
      ]
    },
    {
      "cell_type": "code",
      "metadata": {
        "_cell_guid": "658df4ff-3936-4b81-bc66-9a13ce8c467a",
        "_uuid": "8840fee0bbc560e32e9538f004620ed99216b002",
        "trusted": true,
        "id": "6knOOmFQtshr",
        "colab": {
          "base_uri": "https://localhost:8080/",
          "height": 373
        },
        "outputId": "17261fc9-261c-4079-f6fa-23d48e29faa7"
      },
      "source": [
        "sns.barplot(x='sales',y='satisfaction_level',hue='left',data=df)\n",
        "plt.xlabel('Department')\n",
        "plt.xticks(rotation=90)\n",
        "plt.title('Satisfaction Level in Each Department')"
      ],
      "execution_count": null,
      "outputs": [
        {
          "output_type": "execute_result",
          "data": {
            "text/plain": [
              "Text(0.5, 1.0, 'Satisfaction Level in Each Department')"
            ]
          },
          "metadata": {
            "tags": []
          },
          "execution_count": 10
        },
        {
          "output_type": "display_data",
          "data": {
            "image/png": "[encoded data removed]",
            "text/plain": [
              "<Figure size 432x288 with 1 Axes>"
            ]
          },
          "metadata": {
            "tags": [],
            "needs_background": "light"
          }
        }
      ]
    },
    {
      "cell_type": "code",
      "metadata": {
        "_cell_guid": "95526e24-0319-4db3-93ff-de7610b0df47",
        "_uuid": "5626bf7518b4277b9c6d921b44fdf75ed0a738e2",
        "trusted": true,
        "id": "ZO9OB_-Etshs",
        "colab": {
          "base_uri": "https://localhost:8080/",
          "height": 386
        },
        "outputId": "cd3b4b90-e0da-4fe8-be9f-19acc8207541"
      },
      "source": [
        "left_yes = df[df['left'] == 1]\n",
        "left_no = df[df['left'] == 0]\n",
        "sns.distplot(left_no.satisfaction_level,label='0')\n",
        "sns.distplot(left_yes.satisfaction_level,label='1')\n",
        "plt.legend(title='left',loc='best')"
      ],
      "execution_count": null,
      "outputs": [
        {
          "output_type": "stream",
          "text": [
            "/usr/local/lib/python3.6/dist-packages/seaborn/distributions.py:2551: FutureWarning: `distplot` is a deprecated function and will be removed in a future version. Please adapt your code to use either `displot` (a figure-level function with similar flexibility) or `histplot` (an axes-level function for histograms).\n",
            "  warnings.warn(msg, FutureWarning)\n",
            "/usr/local/lib/python3.6/dist-packages/seaborn/distributions.py:2551: FutureWarning: `distplot` is a deprecated function and will be removed in a future version. Please adapt your code to use either `displot` (a figure-level function with similar flexibility) or `histplot` (an axes-level function for histograms).\n",
            "  warnings.warn(msg, FutureWarning)\n"
          ],
          "name": "stderr"
        },
        {
          "output_type": "execute_result",
          "data": {
            "text/plain": [
              "<matplotlib.legend.Legend at 0x7f242fc52748>"
            ]
          },
          "metadata": {
            "tags": []
          },
          "execution_count": 11
        },
        {
          "output_type": "display_data",
          "data": {
            "image/png": "[encoded data removed]",
            "text/plain": [
              "<Figure size 432x288 with 1 Axes>"
            ]
          },
          "metadata": {
            "tags": [],
            "needs_background": "light"
          }
        }
      ]
    },
    {
      "cell_type": "markdown",
      "metadata": {
        "_cell_guid": "78febd94-0168-4743-a946-2864ed195b45",
        "_uuid": "a0b6455c0b38458063ad32cf369b58be933cd209",
        "id": "bzgwETKatshu"
      },
      "source": [
        "* Employees with lower job satisfaction left the organization across all the departments.\n",
        "* A few employees with higher job satisfaction also left."
      ]
    },
    {
      "cell_type": "code",
      "metadata": {
        "_cell_guid": "7d4e7359-43c4-48f2-9413-e4ab9d4aca22",
        "_uuid": "a4435187df7f2cdd177447b96f08653568c235a3",
        "trusted": true,
        "id": "kyGZpOoXtshv",
        "colab": {
          "base_uri": "https://localhost:8080/",
          "height": 373
        },
        "outputId": "fa72bdc8-74e7-43ea-f7ca-04626243f8b2"
      },
      "source": [
        "sns.barplot(x='sales',y='average_montly_hours',hue='left',data=df)\n",
        "plt.xlabel('Department')\n",
        "plt.xticks(rotation=90)\n",
        "plt.title('Average hours clocked by employees in each department')"
      ],
      "execution_count": null,
      "outputs": [
        {
          "output_type": "execute_result",
          "data": {
            "text/plain": [
              "Text(0.5, 1.0, 'Average hours clocked by employees in each department')"
            ]
          },
          "metadata": {
            "tags": []
          },
          "execution_count": 12
        },
        {
          "output_type": "display_data",
          "data": {
            "image/png": "[encoded data removed]",
            "text/plain": [
              "<Figure size 432x288 with 1 Axes>"
            ]
          },
          "metadata": {
            "tags": [],
            "needs_background": "light"
          }
        }
      ]
    },
    {
      "cell_type": "markdown",
      "metadata": {
        "_cell_guid": "e89a6cf8-184e-4982-a215-3f19be09733b",
        "_uuid": "1bf4171c7e164161f286a24ff652d6e899535870",
        "id": "jcIaEAYFtshw"
      },
      "source": [
        "* People clocking higher hours left the organization across all the departments."
      ]
    },
    {
      "cell_type": "code",
      "metadata": {
        "_cell_guid": "e29214be-7b67-43d7-bebf-7383463f0796",
        "_uuid": "771ede3f4b843d566335dde2982762fa47c21306",
        "trusted": true,
        "id": "EdwRwbfytshx",
        "colab": {
          "base_uri": "https://localhost:8080/",
          "height": 386
        },
        "outputId": "d8482b68-e28e-4ec2-c51c-cf6fa3e307e9"
      },
      "source": [
        "sns.distplot(left_no.average_montly_hours,label='0')\n",
        "sns.distplot(left_yes.average_montly_hours,label='1')\n",
        "plt.legend(title='left',loc='best')"
      ],
      "execution_count": null,
      "outputs": [
        {
          "output_type": "stream",
          "text": [
            "/usr/local/lib/python3.6/dist-packages/seaborn/distributions.py:2551: FutureWarning: `distplot` is a deprecated function and will be removed in a future version. Please adapt your code to use either `displot` (a figure-level function with similar flexibility) or `histplot` (an axes-level function for histograms).\n",
            "  warnings.warn(msg, FutureWarning)\n",
            "/usr/local/lib/python3.6/dist-packages/seaborn/distributions.py:2551: FutureWarning: `distplot` is a deprecated function and will be removed in a future version. Please adapt your code to use either `displot` (a figure-level function with similar flexibility) or `histplot` (an axes-level function for histograms).\n",
            "  warnings.warn(msg, FutureWarning)\n"
          ],
          "name": "stderr"
        },
        {
          "output_type": "execute_result",
          "data": {
            "text/plain": [
              "<matplotlib.legend.Legend at 0x7f242f37b438>"
            ]
          },
          "metadata": {
            "tags": []
          },
          "execution_count": 13
        },
        {
          "output_type": "display_data",
          "data": {
            "image/png": "[encoded data removed]",
            "text/plain": [
              "<Figure size 432x288 with 1 Axes>"
            ]
          },
          "metadata": {
            "tags": [],
            "needs_background": "light"
          }
        }
      ]
    },
    {
      "cell_type": "markdown",
      "metadata": {
        "_cell_guid": "ee1ac9a8-25c3-4bf1-9925-061a124a5e19",
        "_uuid": "b9d79d2f6b8dabced0e90378e9bc927cc3c07765",
        "id": "rGA_FNBvtshy"
      },
      "source": [
        "* However, there is more to it. People clocking around 150 hours and people clocking around 250 hours left in higher number than other people. The distribution has two peaks in these regions."
      ]
    },
    {
      "cell_type": "code",
      "metadata": {
        "_cell_guid": "6d9d3e37-28a1-449c-9812-947db3f6ea61",
        "_uuid": "aa26a098a778e3d82ca4db4e45ed2f9466ce4a2f",
        "trusted": true,
        "id": "X4MQ9M5ttshz",
        "colab": {
          "base_uri": "https://localhost:8080/",
          "height": 373
        },
        "outputId": "c117fe89-15be-46de-ba4b-372632600da9"
      },
      "source": [
        "sns.barplot(x='sales',y='last_evaluation',hue='left',data=df)\n",
        "plt.xlabel('Department')\n",
        "plt.xticks(rotation=90)\n",
        "plt.title('Last evaluation')"
      ],
      "execution_count": null,
      "outputs": [
        {
          "output_type": "execute_result",
          "data": {
            "text/plain": [
              "Text(0.5, 1.0, 'Last evaluation')"
            ]
          },
          "metadata": {
            "tags": []
          },
          "execution_count": 14
        },
        {
          "output_type": "display_data",
          "data": {
            "image/png": "[encoded data removed]",
            "text/plain": [
              "<Figure size 432x288 with 1 Axes>"
            ]
          },
          "metadata": {
            "tags": [],
            "needs_background": "light"
          }
        }
      ]
    },
    {
      "cell_type": "markdown",
      "metadata": {
        "_cell_guid": "7c3090af-8b42-46b0-bb1f-040c0c91f405",
        "_uuid": "5cdbe107f9c315daf8b97034c58434b8f1235757",
        "id": "6uZroWJ5tsh1"
      },
      "source": [
        "* In *RandD*, people with higher score left the company.\n",
        "* This was the case (although marginally) with other departments expect *accounting, hr* and *marketing*."
      ]
    },
    {
      "cell_type": "markdown",
      "metadata": {
        "_cell_guid": "11a99078-cde3-42ec-bcdc-0418f3b15867",
        "_uuid": "a6d59d03e744d7d6fdc259a7bb1932f43270eef8",
        "id": "13iCpXRgtsh2"
      },
      "source": [
        "### Classification"
      ]
    },
    {
      "cell_type": "markdown",
      "metadata": {
        "_cell_guid": "dd1d2ef4-95af-4fc7-af83-fdb6d5d29003",
        "_uuid": "8f102d48ee5359c64e1035b5c82f20a222406891",
        "id": "QfbNmKhZtsh3"
      },
      "source": [
        "#### Data preprocessing"
      ]
    },
    {
      "cell_type": "code",
      "metadata": {
        "_cell_guid": "e1f630d4-dc9e-4a7c-95d6-6a47b6f649b0",
        "_uuid": "17dc4efd7d377fd4c57125928003b45a3ef145ef",
        "trusted": true,
        "id": "cNgwaLV-tsh3"
      },
      "source": [
        "lst = ['sales','technical','support','IT','product_mng','marketing','RandD','accounting','hr','management']\n",
        "\n",
        "for i, pos in enumerate(lst):\n",
        "    df.sales.replace(to_replace=pos,value=i,inplace=True)"
      ],
      "execution_count": null,
      "outputs": []
    },
    {
      "cell_type": "code",
      "metadata": {
        "_cell_guid": "920b85dd-451a-4e3e-84cf-5eed31a5c647",
        "_uuid": "105bbc0e4b708392fb95ef17e672bf3c53114eea",
        "trusted": true,
        "id": "ZHSysdQntsh5",
        "colab": {
          "base_uri": "https://localhost:8080/"
        },
        "outputId": "8b415c94-d003-4946-9686-64d5b7a7ccaf"
      },
      "source": [
        "df.salary.value_counts()"
      ],
      "execution_count": null,
      "outputs": [
        {
          "output_type": "execute_result",
          "data": {
            "text/plain": [
              "low       7316\n",
              "medium    6446\n",
              "high      1237\n",
              "Name: salary, dtype: int64"
            ]
          },
          "metadata": {
            "tags": []
          },
          "execution_count": 17
        }
      ]
    },
    {
      "cell_type": "code",
      "metadata": {
        "_cell_guid": "4543b18f-358f-40cc-bc36-410838772e5d",
        "_uuid": "18528eb15717da7ac46a77673d5bd468e37575cc",
        "trusted": true,
        "id": "g9VGUOlutsh7"
      },
      "source": [
        "lst = ['low','medium','high']\n",
        "\n",
        "for i, sal in enumerate(lst):\n",
        "    df.salary.replace(to_replace=sal,value=i,inplace=True)"
      ],
      "execution_count": null,
      "outputs": []
    },
    {
      "cell_type": "code",
      "metadata": {
        "_cell_guid": "627ce35c-e2db-4d00-b69d-ba89ad34773a",
        "_uuid": "d84c6dff7010c69a7e287d77f21bc8478258565d",
        "trusted": true,
        "id": "7tkSIkaAtsh8"
      },
      "source": [
        "df.info()"
      ],
      "execution_count": null,
      "outputs": []
    },
    {
      "cell_type": "code",
      "metadata": {
        "_cell_guid": "5083e791-465f-4553-a9a0-8ee0dd48c7ba",
        "_uuid": "a1a14597552534db7db386cfb700936c6fc268ab",
        "trusted": true,
        "id": "XZMN8X6Jtsh-",
        "colab": {
          "base_uri": "https://localhost:8080/"
        },
        "outputId": "1334e7eb-5a5e-4564-d003-edb4e41ad6b1"
      },
      "source": [
        "x = df.drop('left',axis=1)\n",
        "y = df.left\n",
        "y.values.reshape(-1,1)"
      ],
      "execution_count": null,
      "outputs": [
        {
          "output_type": "execute_result",
          "data": {
            "text/plain": [
              "array([[1],\n",
              "       [1],\n",
              "       [1],\n",
              "       ...,\n",
              "       [1],\n",
              "       [1],\n",
              "       [1]])"
            ]
          },
          "metadata": {
            "tags": []
          },
          "execution_count": 19
        }
      ]
    },
    {
      "cell_type": "markdown",
      "metadata": {
        "_cell_guid": "fa163c2e-0900-44be-990b-53a82d7ae4a1",
        "_uuid": "bb2ece0fc909fdb442450ef6a0db23de62c87b2c",
        "id": "Pj2hYvFTtsh_"
      },
      "source": [
        "* Split the data into train, dev and test set."
      ]
    },
    {
      "cell_type": "code",
      "metadata": {
        "_cell_guid": "f3f3ada7-bebb-49b3-a03a-fb55ed548367",
        "_uuid": "dd8f178ec549a6edf5ee6b21f53769769e17a907",
        "trusted": true,
        "id": "CPuWK7LotsiA"
      },
      "source": [
        "x_train,x_test,y_train,y_test = train_test_split(x,y,test_size=0.3)\n",
        "x_dev,x_test,y_dev,y_test = train_test_split(x_test,y_test,test_size=0.5)"
      ],
      "execution_count": null,
      "outputs": []
    },
    {
      "cell_type": "markdown",
      "metadata": {
        "_cell_guid": "c248a64c-275a-4633-bbbc-1c853963f3f3",
        "_uuid": "af769a7ca15309822442538d7825180b5edd23ea",
        "id": "66BOodv9tsiB"
      },
      "source": [
        "* Scale the data."
      ]
    },
    {
      "cell_type": "code",
      "metadata": {
        "_cell_guid": "f4dcd22c-38b7-4808-a516-c74a5b8e6bc2",
        "_uuid": "dc02511c3e76cb78a3efde61b34742aa1047f031",
        "trusted": true,
        "id": "TrPewrhjtsiC"
      },
      "source": [
        "scaler = StandardScaler().fit(x_train)\n",
        "x_train = scaler.transform(x_train)\n",
        "x_dev = scaler.transform(x_dev)\n",
        "x_test = scaler.transform(x_test)"
      ],
      "execution_count": null,
      "outputs": []
    },
    {
      "cell_type": "markdown",
      "metadata": {
        "_cell_guid": "76faa610-7da2-43ef-a846-ae26fc8ebb47",
        "_uuid": "0ee632ca47aba4474159a46c70a0d5d514417177",
        "id": "gTDuv808tsiD"
      },
      "source": [
        "#### Decision Tree"
      ]
    },
    {
      "cell_type": "code",
      "metadata": {
        "_cell_guid": "0cbccd92-58e2-4594-9886-c6b24ffc8424",
        "_uuid": "31876d487e7fa6c1b662eeb3add9e012f58ec928",
        "trusted": true,
        "id": "9X2hv8TctsiE",
        "colab": {
          "base_uri": "https://localhost:8080/"
        },
        "outputId": "bd7e68c1-e892-46d6-c89f-906f4872110b"
      },
      "source": [
        "clf = DecisionTreeClassifier(min_samples_split=3,)\n",
        "clf.fit(x_train,y_train)\n",
        "pred = clf.predict(x_train)\n",
        "print('Training Report\\n {}'.format(classification_report(y_train,pred)))\n",
        "print('Training accuracy: {:.3f}'.format(accuracy_score(y_train,pred)))"
      ],
      "execution_count": null,
      "outputs": [
        {
          "output_type": "stream",
          "text": [
            "Training Report\n",
            "               precision    recall  f1-score   support\n",
            "\n",
            "           0       1.00      1.00      1.00      8030\n",
            "           1       1.00      0.99      1.00      2469\n",
            "\n",
            "    accuracy                           1.00     10499\n",
            "   macro avg       1.00      1.00      1.00     10499\n",
            "weighted avg       1.00      1.00      1.00     10499\n",
            "\n",
            "Training accuracy: 0.999\n"
          ],
          "name": "stdout"
        }
      ]
    },
    {
      "cell_type": "code",
      "metadata": {
        "_cell_guid": "960c215c-ccd9-45af-ae8e-528dc36b9de2",
        "_uuid": "878981b84662b43e104b727887f58834c443c82c",
        "trusted": true,
        "id": "4liGguhwtsiF",
        "colab": {
          "base_uri": "https://localhost:8080/"
        },
        "outputId": "334a7510-8075-4a68-b4ae-9b34da49fbfa"
      },
      "source": [
        "pred = clf.predict(x_dev)\n",
        "print('Dev set Report\\n {}'.format(classification_report(y_dev,pred)))\n",
        "print('Dev set accuracy: {:.3f}'.format(accuracy_score(y_dev,pred)))\n",
        "print('AUC: {:.3f}'.format(roc_auc_score(y_dev,pred)))"
      ],
      "execution_count": null,
      "outputs": [
        {
          "output_type": "stream",
          "text": [
            "Dev set Report\n",
            "               precision    recall  f1-score   support\n",
            "\n",
            "           0       0.98      0.98      0.98      1724\n",
            "           1       0.95      0.94      0.94       526\n",
            "\n",
            "    accuracy                           0.97      2250\n",
            "   macro avg       0.97      0.96      0.96      2250\n",
            "weighted avg       0.97      0.97      0.97      2250\n",
            "\n",
            "Dev set accuracy: 0.974\n",
            "AUC: 0.963\n"
          ],
          "name": "stdout"
        }
      ]
    },
    {
      "cell_type": "markdown",
      "metadata": {
        "_cell_guid": "0bd97034-594c-4bd8-b31e-d1037870d764",
        "_uuid": "c569867d0b33bf0bdb9cb0bf89d8a121ade3a7bf",
        "id": "b1Q97nE6tsiH"
      },
      "source": [
        "#### Ramdom Forest"
      ]
    },
    {
      "cell_type": "code",
      "metadata": {
        "_cell_guid": "3a6ed387-27a6-4540-baa4-411c3c6e8b5d",
        "_uuid": "c29d193f8e47b8cf57a57986cb334f8988a1c1c6",
        "trusted": true,
        "id": "wjDpcIlatsiH",
        "colab": {
          "base_uri": "https://localhost:8080/"
        },
        "outputId": "12338722-a83b-42fc-9357-f0d1e5f665eb"
      },
      "source": [
        "clf = RandomForestClassifier(n_estimators=300)\n",
        "clf.fit(x_train,y_train)\n",
        "pred = clf.predict(x_train)\n",
        "print('Training Report\\n {}'.format(classification_report(y_train,pred)))\n",
        "print('Training accuracy: {:.3f}'.format(accuracy_score(y_train,pred)))"
      ],
      "execution_count": null,
      "outputs": [
        {
          "output_type": "stream",
          "text": [
            "Training Report\n",
            "               precision    recall  f1-score   support\n",
            "\n",
            "           0       1.00      1.00      1.00      8030\n",
            "           1       1.00      1.00      1.00      2469\n",
            "\n",
            "    accuracy                           1.00     10499\n",
            "   macro avg       1.00      1.00      1.00     10499\n",
            "weighted avg       1.00      1.00      1.00     10499\n",
            "\n",
            "Training accuracy: 1.000\n"
          ],
          "name": "stdout"
        }
      ]
    },
    {
      "cell_type": "code",
      "metadata": {
        "_cell_guid": "b17e482d-bd02-41cd-8a94-4e36ec9d9406",
        "_uuid": "acc3caf040399c5879cd9549bd573b77e6316e4c",
        "trusted": true,
        "id": "QKIkk3XDtsiJ",
        "colab": {
          "base_uri": "https://localhost:8080/"
        },
        "outputId": "06e59784-0d24-4316-b91c-5240e35e5044"
      },
      "source": [
        "pred = clf.predict(x_dev)\n",
        "print('Dev set Report\\n {}'.format(classification_report(y_dev,pred)))\n",
        "print('Dev set accuracy: {:.3f}'.format(accuracy_score(y_dev,pred)))\n",
        "print('AUC: {:.3f}'.format(roc_auc_score(y_dev,pred)))"
      ],
      "execution_count": null,
      "outputs": [
        {
          "output_type": "stream",
          "text": [
            "Dev set Report\n",
            "               precision    recall  f1-score   support\n",
            "\n",
            "           0       0.99      1.00      0.99      1724\n",
            "           1       1.00      0.96      0.98       526\n",
            "\n",
            "    accuracy                           0.99      2250\n",
            "   macro avg       0.99      0.98      0.99      2250\n",
            "weighted avg       0.99      0.99      0.99      2250\n",
            "\n",
            "Dev set accuracy: 0.991\n",
            "AUC: 0.981\n"
          ],
          "name": "stdout"
        }
      ]
    },
    {
      "cell_type": "code",
      "metadata": {
        "_cell_guid": "cf9dd03a-5535-44ea-a7d1-3321cd958b12",
        "_uuid": "af50a54b32dc8a70132a73bc0bca24bfb0d01056",
        "trusted": true,
        "id": "nV-5o_B5tsiL",
        "colab": {
          "base_uri": "https://localhost:8080/"
        },
        "outputId": "dcfc7810-0ca5-4170-82be-35baca108b1d"
      },
      "source": [
        "clf = SVC(C=500)\n",
        "clf.fit(x_train,y_train)\n",
        "pred = clf.predict(x_train)\n",
        "print('Training Report\\n {}'.format(classification_report(y_train,pred)))\n",
        "print('Training accuracy: {:.3f}'.format(accuracy_score(y_train,pred)))"
      ],
      "execution_count": null,
      "outputs": [
        {
          "output_type": "stream",
          "text": [
            "Training Report\n",
            "               precision    recall  f1-score   support\n",
            "\n",
            "           0       0.99      1.00      0.99      8030\n",
            "           1       0.98      0.97      0.98      2469\n",
            "\n",
            "    accuracy                           0.99     10499\n",
            "   macro avg       0.99      0.98      0.99     10499\n",
            "weighted avg       0.99      0.99      0.99     10499\n",
            "\n",
            "Training accuracy: 0.990\n"
          ],
          "name": "stdout"
        }
      ]
    },
    {
      "cell_type": "code",
      "metadata": {
        "_cell_guid": "48f66e3a-9912-46b0-b233-0a30f5c9ebf7",
        "_uuid": "9536c25a6e0309bc92c2a59eaae0745535836be9",
        "trusted": true,
        "id": "fTbUsbwCtsiN",
        "colab": {
          "base_uri": "https://localhost:8080/"
        },
        "outputId": "713c5db1-e285-4f21-a07b-dc02ac7cf089"
      },
      "source": [
        "pred = clf.predict(x_dev)\n",
        "print('Dev set Report\\n {}'.format(classification_report(y_dev,pred)))\n",
        "print('Dev set accuracy: {:.3f}'.format(accuracy_score(y_dev,pred)))\n",
        "print('AUC: {:.3f}'.format(roc_auc_score(y_dev,pred)))"
      ],
      "execution_count": null,
      "outputs": [
        {
          "output_type": "stream",
          "text": [
            "Dev set Report\n",
            "               precision    recall  f1-score   support\n",
            "\n",
            "           0       0.98      0.98      0.98      1724\n",
            "           1       0.95      0.92      0.93       526\n",
            "\n",
            "    accuracy                           0.97      2250\n",
            "   macro avg       0.96      0.95      0.96      2250\n",
            "weighted avg       0.97      0.97      0.97      2250\n",
            "\n",
            "Dev set accuracy: 0.969\n",
            "AUC: 0.952\n"
          ],
          "name": "stdout"
        }
      ]
    },
    {
      "cell_type": "markdown",
      "metadata": {
        "_cell_guid": "f26d6a8f-41b1-4008-84f5-ff44f431ec23",
        "_uuid": "adbd3340baf0c12ca3beee47e650461c3617b95c",
        "id": "4DobMzc4tsiP"
      },
      "source": [
        "* Random Forest classifier showed better performance on the dev set and the same is chosen."
      ]
    },
    {
      "cell_type": "markdown",
      "metadata": {
        "_cell_guid": "888fe81a-b6f8-4c4e-ba06-defbb3466e64",
        "_uuid": "2011a242f2153eaf899a0a1593eb1a0473f8691e",
        "id": "JrY4JUlMtsiP"
      },
      "source": [
        "#### Classifying the data found in the test set."
      ]
    },
    {
      "cell_type": "code",
      "metadata": {
        "_cell_guid": "433faa59-73ab-41c3-86bd-624549c31891",
        "_uuid": "1ebf0b4de4c4dee6ace81a635c80f4f202a3c790",
        "trusted": true,
        "id": "qT2UsIt2tsiP",
        "colab": {
          "base_uri": "https://localhost:8080/"
        },
        "outputId": "e2f6ef5a-c988-45bd-d68c-7e7aa662b4e3"
      },
      "source": [
        "clf = RandomForestClassifier(n_estimators=300)\n",
        "clf.fit(x_train,y_train)"
      ],
      "execution_count": null,
      "outputs": [
        {
          "output_type": "execute_result",
          "data": {
            "text/plain": [
              "RandomForestClassifier(bootstrap=True, ccp_alpha=0.0, class_weight=None,\n",
              "                       criterion='gini', max_depth=None, max_features='auto',\n",
              "                       max_leaf_nodes=None, max_samples=None,\n",
              "                       min_impurity_decrease=0.0, min_impurity_split=None,\n",
              "                       min_samples_leaf=1, min_samples_split=2,\n",
              "                       min_weight_fraction_leaf=0.0, n_estimators=300,\n",
              "                       n_jobs=None, oob_score=False, random_state=None,\n",
              "                       verbose=0, warm_start=False)"
            ]
          },
          "metadata": {
            "tags": []
          },
          "execution_count": 28
        }
      ]
    },
    {
      "cell_type": "code",
      "metadata": {
        "_cell_guid": "52856a81-8bd8-4d5f-a8ac-2bb8856a7f01",
        "_uuid": "4882357d118333a03905bc5f5b0332b4180a22a8",
        "trusted": true,
        "id": "vpXIC5F3tsiR",
        "colab": {
          "base_uri": "https://localhost:8080/"
        },
        "outputId": "4fbc68a6-7a8d-4a4f-bb0a-d98f1619025f"
      },
      "source": [
        "pred = clf.predict(x_test)\n",
        "print('Test set Report\\n {}'.format(classification_report(y_test,pred)))\n",
        "print('Test set accuracy: {:.3f}'.format(accuracy_score(y_test,pred)))\n",
        "print('AUC: {:.3f}'.format(roc_auc_score(y_test,pred)))"
      ],
      "execution_count": null,
      "outputs": [
        {
          "output_type": "stream",
          "text": [
            "Test set Report\n",
            "               precision    recall  f1-score   support\n",
            "\n",
            "           0       0.98      1.00      0.99      1674\n",
            "           1       1.00      0.95      0.97       576\n",
            "\n",
            "    accuracy                           0.99      2250\n",
            "   macro avg       0.99      0.97      0.98      2250\n",
            "weighted avg       0.99      0.99      0.99      2250\n",
            "\n",
            "Test set accuracy: 0.986\n",
            "AUC: 0.973\n"
          ],
          "name": "stdout"
        }
      ]
    },
    {
      "cell_type": "code",
      "metadata": {
        "trusted": true,
        "_uuid": "1f86bd83dceb2c2381ec1b3a5e363be9e533aa16",
        "id": "PGqcAfJ7tsiS"
      },
      "source": [
        ""
      ],
      "execution_count": null,
      "outputs": []
    }
  ]
}