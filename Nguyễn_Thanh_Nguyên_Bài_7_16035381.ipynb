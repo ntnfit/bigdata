{
  "nbformat": 4,
  "nbformat_minor": 0,
  "metadata": {
    "colab": {
      "name": "Nguyễn Thanh Nguyên_Bài 7_16035381.ipynb",
      "provenance": [],
      "collapsed_sections": [],
      "authorship_tag": "ABX9TyPRFW19+1dYR1B3lqIKdqY3",
      "include_colab_link": true
    },
    "kernelspec": {
      "name": "python3",
      "display_name": "Python 3"
    }
  },
  "cells": [
    {
      "cell_type": "markdown",
      "metadata": {
        "id": "view-in-github",
        "colab_type": "text"
      },
      "source": [
        "<a href=\"https://colab.research.google.com/github/ntnfit98/bigdata/blob/master/Nguy%E1%BB%85n_Thanh_Nguy%C3%AAn_B%C3%A0i_7_16035381.ipynb\" target=\"_parent\"><img src=\"https://colab.research.google.com/assets/colab-badge.svg\" alt=\"Open In Colab\"/></a>"
      ]
    },
    {
      "cell_type": "code",
      "metadata": {
        "id": "OOm0Dkqmw3KP",
        "colab": {
          "base_uri": "https://localhost:8080/"
        },
        "outputId": "c869d2fc-673d-48f4-86a4-f36f46b5b7e3"
      },
      "source": [
        "from __future__ import print_function\n",
        "import numpy as np \n",
        "\n",
        "def acc(y_true, y_pred):\n",
        "    correct = np.sum(y_true == y_pred)\n",
        "    return float(correct)/y_true.shape[0]\n",
        "\n",
        "y_true = np.array([0, 0, 0, 0, 1, 1, 1, 2, 2, 2])\n",
        "y_pred = np.array([0, 1, 0, 2, 1, 1, 0, 2, 1, 2])\n",
        "print('accuracy = ', acc(y_true, y_pred))"
      ],
      "execution_count": null,
      "outputs": [
        {
          "output_type": "stream",
          "text": [
            "accuracy =  0.6\n"
          ],
          "name": "stdout"
        }
      ]
    },
    {
      "cell_type": "code",
      "metadata": {
        "id": "x_7mJ-PNxMwK",
        "colab": {
          "base_uri": "https://localhost:8080/"
        },
        "outputId": "e4d691c9-835b-4d99-897f-5ae259452b2e"
      },
      "source": [
        "from sklearn.metrics import accuracy_score\n",
        "print('accuracy = ',accuracy_score(y_true, y_pred))"
      ],
      "execution_count": null,
      "outputs": [
        {
          "output_type": "stream",
          "text": [
            "accuracy =  0.6\n"
          ],
          "name": "stdout"
        }
      ]
    },
    {
      "cell_type": "code",
      "metadata": {
        "id": "YBBRxfyrxsSI",
        "colab": {
          "base_uri": "https://localhost:8080/"
        },
        "outputId": "404fd62e-1459-4b2b-f7b1-22f032849fbe"
      },
      "source": [
        "def my_confusion_matrix(y_true, y_pred):\n",
        "    N = np.unique(y_true).shape[0] # number of classes \n",
        "    cm = np.zeros((N, N))\n",
        "    for n in range(y_true.shape[0]):\n",
        "        cm[y_true[n], y_pred[n]] += 1\n",
        "    return cm \n",
        "\n",
        "cnf_matrix = my_confusion_matrix(y_true, y_pred)\n",
        "print('Confusion matrix:')\n",
        "print(cnf_matrix)\n",
        "print('\\nAccuracy:', np.diagonal(cnf_matrix).sum()/cnf_matrix.sum())"
      ],
      "execution_count": null,
      "outputs": [
        {
          "output_type": "stream",
          "text": [
            "Confusion matrix:\n",
            "[[2. 1. 1.]\n",
            " [1. 2. 0.]\n",
            " [0. 1. 2.]]\n",
            "\n",
            "Accuracy: 0.6\n"
          ],
          "name": "stdout"
        }
      ]
    },
    {
      "cell_type": "code",
      "metadata": {
        "id": "FYeL3qMVxuv3",
        "colab": {
          "base_uri": "https://localhost:8080/"
        },
        "outputId": "90500d27-97dd-4a02-a33a-58fbd49f592d"
      },
      "source": [
        "normalized_confusion_matrix = cnf_matrix/cnf_matrix.sum(axis = 1, keepdims = True)\n",
        "print('\\nConfusion matrix (with normalizatrion:)')\n",
        "print(normalized_confusion_matrix)\n"
      ],
      "execution_count": null,
      "outputs": [
        {
          "output_type": "stream",
          "text": [
            "\n",
            "Confusion matrix (with normalizatrion:)\n",
            "[[0.5        0.25       0.25      ]\n",
            " [0.33333333 0.66666667 0.        ]\n",
            " [0.         0.33333333 0.66666667]]\n"
          ],
          "name": "stdout"
        }
      ]
    },
    {
      "cell_type": "code",
      "metadata": {
        "id": "qa935Kk_xvlg",
        "colab": {
          "base_uri": "https://localhost:8080/"
        },
        "outputId": "3477fd48-337e-4d7a-8adf-ddf1317fca6c"
      },
      "source": [
        "from sklearn.metrics import confusion_matrix\n",
        "cnf_matrix = confusion_matrix(y_true, y_pred)\n",
        "print('Confusion matrix:')\n",
        "print(cnf_matrix)"
      ],
      "execution_count": null,
      "outputs": [
        {
          "output_type": "stream",
          "text": [
            "Confusion matrix:\n",
            "[[2 1 1]\n",
            " [1 2 0]\n",
            " [0 1 2]]\n"
          ],
          "name": "stdout"
        }
      ]
    },
    {
      "cell_type": "code",
      "metadata": {
        "id": "o81s2CIjxziw",
        "colab": {
          "base_uri": "https://localhost:8080/",
          "height": 605
        },
        "outputId": "f2541e2b-0ff4-4f23-c7c0-4bb0131df531"
      },
      "source": [
        "import matplotlib.pyplot as plt\n",
        "import itertools\n",
        "def plot_confusion_matrix(cm, classes,\n",
        "                          normalize=False,\n",
        "                          title='Confusion matrix',\n",
        "                          cmap=plt.cm.Blues):\n",
        "    \"\"\"\n",
        "    This function prints and plots the confusion matrix.\n",
        "    Normalization can be applied by setting `normalize=True`.\n",
        "    \"\"\"\n",
        "    if normalize:\n",
        "        cm = cm.astype('float') / cm.sum(axis=1, keepdims = True)\n",
        "\n",
        "    plt.imshow(cm, interpolation='nearest', cmap=cmap)\n",
        "    plt.title(title)\n",
        "    plt.colorbar()\n",
        "    tick_marks = np.arange(len(classes))\n",
        "    plt.xticks(tick_marks, classes, rotation=45)\n",
        "    plt.yticks(tick_marks, classes)\n",
        "\n",
        "    fmt = '.2f' if normalize else 'd'\n",
        "    thresh = cm.max() / 2.\n",
        "    for i, j in itertools.product(range(cm.shape[0]), range(cm.shape[1])):\n",
        "        plt.text(j, i, format(cm[i, j], fmt),\n",
        "                 horizontalalignment=\"center\",\n",
        "                 color=\"white\" if cm[i, j] > thresh else \"black\")\n",
        "\n",
        "    plt.tight_layout()\n",
        "    plt.ylabel('True label')\n",
        "    plt.xlabel('Predicted label')\n",
        "\n",
        "# Plot non-normalized confusion matrix\n",
        "class_names = [0, 1, 2]\n",
        "plt.figure()\n",
        "plot_confusion_matrix(cnf_matrix, classes=class_names,\n",
        "                      title='Confusion matrix, without normalization')\n",
        "\n",
        "# Plot normalized confusion matrix\n",
        "plt.figure()\n",
        "plot_confusion_matrix(cnf_matrix, classes=class_names, normalize=True,\n",
        "                      title='Normalized confusion matrix')\n",
        "\n",
        "plt.show()"
      ],
      "execution_count": null,
      "outputs": [
        {
          "output_type": "display_data",
          "data": {
            "image/png": "[encoded data removed]",
            "text/plain": [
              "<Figure size 432x288 with 2 Axes>"
            ]
          },
          "metadata": {
            "tags": [],
            "needs_background": "light"
          }
        },
        {
          "output_type": "display_data",
          "data": {
            "image/png": "[encoded data removed]",
            "text/plain": [
              "<Figure size 432x288 with 2 Axes>"
            ]
          },
          "metadata": {
            "tags": [],
            "needs_background": "light"
          }
        }
      ]
    },
    {
      "cell_type": "code",
      "metadata": {
        "id": "Dv5ERsaLx-xI",
        "colab": {
          "base_uri": "https://localhost:8080/"
        },
        "outputId": "cfdb6f05-d8ea-4825-8499-5601dfab4ba8"
      },
      "source": [
        "n0, n1 = 20, 30\n",
        "score0 = np.random.rand(n0)/2\n",
        "label0 = np.zeros(n0, dtype = int)\n",
        "score1  = np.random.rand(n1)/2 + .2\n",
        "label1 = np.ones(n1, dtype = int)\n",
        "scores = np.concatenate((score0, score1))\n",
        "y_true = np.concatenate((label0, label1))\n",
        "\n",
        "print('True labels:')\n",
        "print(y_true)\n",
        "print('\\nScores:')\n",
        "print(scores)"
      ],
      "execution_count": null,
      "outputs": [
        {
          "output_type": "stream",
          "text": [
            "True labels:\n",
            "[0 0 0 0 0 0 0 0 0 0 0 0 0 0 0 0 0 0 0 0 1 1 1 1 1 1 1 1 1 1 1 1 1 1 1 1 1\n",
            " 1 1 1 1 1 1 1 1 1 1 1 1 1]\n",
            "\n",
            "Scores:\n",
            "[0.30026239 0.25643316 0.20651169 0.2509585  0.18084994 0.02262539\n",
            " 0.47557674 0.26225579 0.24381343 0.2737924  0.16340455 0.15136693\n",
            " 0.14447261 0.19436645 0.17953038 0.13494168 0.46385641 0.36651583\n",
            " 0.29465457 0.31648523 0.30000699 0.57148771 0.64876191 0.66686934\n",
            " 0.49683654 0.30556209 0.2919729  0.41475968 0.40819198 0.69439782\n",
            " 0.31331356 0.50203936 0.29091756 0.58262832 0.33377179 0.54041835\n",
            " 0.25749658 0.55215207 0.5779395  0.65912184 0.63413645 0.42936178\n",
            " 0.31006059 0.67266026 0.30685832 0.42483482 0.69654877 0.26198204\n",
            " 0.61360404 0.50938964]\n"
          ],
          "name": "stdout"
        }
      ]
    },
    {
      "cell_type": "code",
      "metadata": {
        "id": "xj49KLEDyixp",
        "colab": {
          "base_uri": "https://localhost:8080/"
        },
        "outputId": "db3d2d93-915f-447e-ad45-258e428de2c8"
      },
      "source": [
        "from sklearn.metrics import roc_curve, auc\n",
        "fpr, tpr, thresholds = roc_curve(y_true, scores, pos_label = 1)\n",
        "print('Thresholds:')\n",
        "print(thresholds)"
      ],
      "execution_count": null,
      "outputs": [
        {
          "output_type": "stream",
          "text": [
            "Thresholds:\n",
            "[1.69654877 0.69654877 0.49683654 0.46385641 0.40819198 0.36651583\n",
            " 0.33377179 0.31648523 0.30556209 0.30026239 0.30000699 0.29465457\n",
            " 0.29091756 0.26225579 0.25749658 0.02262539]\n"
          ],
          "name": "stdout"
        }
      ]
    },
    {
      "cell_type": "code",
      "metadata": {
        "id": "zicJbY9VykDR",
        "colab": {
          "base_uri": "https://localhost:8080/"
        },
        "outputId": "c6934845-d4b7-4937-b998-bca70e4038fe"
      },
      "source": [
        "print('False Positive Rate:')\n",
        "print(fpr)"
      ],
      "execution_count": null,
      "outputs": [
        {
          "output_type": "stream",
          "text": [
            "False Positive Rate:\n",
            "[0.   0.   0.   0.1  0.1  0.15 0.15 0.2  0.2  0.25 0.25 0.3  0.3  0.4\n",
            " 0.4  1.  ]\n"
          ],
          "name": "stdout"
        }
      ]
    },
    {
      "cell_type": "code",
      "metadata": {
        "id": "pEOJrov0ylWI",
        "colab": {
          "base_uri": "https://localhost:8080/"
        },
        "outputId": "d885a089-5e30-49ea-a37b-be966eb2c11a"
      },
      "source": [
        "print('True Positive Rate:')\n",
        "tpr"
      ],
      "execution_count": null,
      "outputs": [
        {
          "output_type": "stream",
          "text": [
            "True Positive Rate:\n"
          ],
          "name": "stdout"
        },
        {
          "output_type": "execute_result",
          "data": {
            "text/plain": [
              "array([0.        , 0.03333333, 0.53333333, 0.53333333, 0.66666667,\n",
              "       0.66666667, 0.7       , 0.7       , 0.83333333, 0.83333333,\n",
              "       0.86666667, 0.86666667, 0.93333333, 0.93333333, 1.        ,\n",
              "       1.        ])"
            ]
          },
          "metadata": {
            "tags": []
          },
          "execution_count": 10
        }
      ]
    },
    {
      "cell_type": "code",
      "metadata": {
        "id": "pfmawPhwyoYf",
        "colab": {
          "base_uri": "https://localhost:8080/",
          "height": 295
        },
        "outputId": "2dcf40ea-e6dd-4f82-dbff-cade64b71f93"
      },
      "source": [
        "import matplotlib.pyplot as plt\n",
        "from itertools import cycle\n",
        "plt.figure()\n",
        "lw = 2\n",
        "plt.plot(fpr, tpr, color='darkorange',\n",
        "         lw=lw, label='ROC curve (area = %0.2f)' % auc(fpr, tpr))\n",
        "plt.plot([0, 1], [0, 1], color='navy', lw=lw, linestyle='--')\n",
        "plt.xlim([0.0, 1.0])\n",
        "plt.ylim([0.0, 1.05])\n",
        "plt.xlabel('False Positive Rate')\n",
        "plt.ylabel('True Positive Rate')\n",
        "plt.title('Receiver operating characteristic example')\n",
        "plt.legend(loc=\"lower right\")\n",
        "plt.show()"
      ],
      "execution_count": null,
      "outputs": [
        {
          "output_type": "display_data",
          "data": {
            "image/png": "[encoded data removed]",
            "text/plain": [
              "<Figure size 432x288 with 1 Axes>"
            ]
          },
          "metadata": {
            "tags": [],
            "needs_background": "light"
          }
        }
      ]
    },
    {
      "cell_type": "code",
      "metadata": {
        "id": "reObMPcMy8Bh",
        "colab": {
          "base_uri": "https://localhost:8080/"
        },
        "outputId": "169d046f-67cd-4a3c-bf54-f4e4694d2117"
      },
      "source": [
        "from __future__ import print_function\n",
        "import numpy as np \n",
        "# confusion matrix to precision + recall\n",
        "def cm2pr_binary(cm):\n",
        "    p = cm[0,0]/np.sum(cm[:,0])\n",
        "    r = cm[0,0]/np.sum(cm[0])\n",
        "    return (p, r)\n",
        "\n",
        "# example of a confusion matrix for binary classification problem \n",
        "cm = np.array([[100., 10], [20, 70]])\n",
        "p,r = cm2pr_binary(cm)\n",
        "print(\"precition = {0:.2f}, recall = {1:.2f}\".format(p, r))"
      ],
      "execution_count": null,
      "outputs": [
        {
          "output_type": "stream",
          "text": [
            "precition = 0.83, recall = 0.91\n"
          ],
          "name": "stdout"
        }
      ]
    },
    {
      "cell_type": "code",
      "metadata": {
        "id": "u7BkHQUJzKvZ",
        "colab": {
          "base_uri": "https://localhost:8080/"
        },
        "outputId": "bdbef10b-a915-4c39-cbf6-303b41ac2015"
      },
      "source": [
        "from __future__ import print_function\n",
        "import numpy as np \n",
        "# confusion matrix to precision + recall\n",
        "def cm2pr_binary(cm):\n",
        "    p = cm[0,0]/np.sum(cm[:,0])\n",
        "    r = cm[0,0]/np.sum(cm[0])\n",
        "    return (p, r)\n",
        "\n",
        "# example of a confusion matrix for binary classification problem \n",
        "cm = np.array([[100., 10], [20, 70]])\n",
        "p,r = cm2pr_binary(cm)\n",
        "print(\"precition = {0:.2f}, recall = {1:.2f}\".format(p, r))"
      ],
      "execution_count": null,
      "outputs": [
        {
          "output_type": "stream",
          "text": [
            "precition = 0.83, recall = 0.91\n"
          ],
          "name": "stdout"
        }
      ]
    },
    {
      "cell_type": "code",
      "metadata": {
        "id": "5SMYm5ShzO8g"
      },
      "source": [
        "tp1, fp1, fn1 = 10, 5, 3\n",
        "tp2, fp2, fn2 = 17, 7, 10\n",
        "tp3, fp3, fn3 = 25, 2, 4 "
      ],
      "execution_count": null,
      "outputs": []
    },
    {
      "cell_type": "code",
      "metadata": {
        "id": "H6HlEsgzzQ7x",
        "colab": {
          "base_uri": "https://localhost:8080/"
        },
        "outputId": "43a240a5-8273-4fe9-9376-f1afba8dc073"
      },
      "source": [
        "from __future__ import print_function\n",
        "def PR(tp, fp, fn):\n",
        "    P = float(tp)/(tp + fp)\n",
        "    R = float(tp)/(tp + fn)\n",
        "    return (P, R)\n",
        "\n",
        "(P1, R1) = PR(tp1, fp1, fn1)\n",
        "(P2, R2) = PR(tp2, fp2, fn2)\n",
        "(P3, R3) = PR(tp3, fp3, fn2)\n",
        "\n",
        "print('(P1, R1) = (%.2f, %.2f)'%(P1, R1))\n",
        "print('(P2, R2) = (%.2f, %.2f)'%(P2, R2))\n",
        "print('(P3, R3) = (%.2f, %.2f)'%(P3, R3))"
      ],
      "execution_count": null,
      "outputs": [
        {
          "output_type": "stream",
          "text": [
            "(P1, R1) = (0.67, 0.77)\n",
            "(P2, R2) = (0.71, 0.63)\n",
            "(P3, R3) = (0.93, 0.71)\n"
          ],
          "name": "stdout"
        }
      ]
    },
    {
      "cell_type": "code",
      "metadata": {
        "id": "5JG-aOFbzl_J",
        "colab": {
          "base_uri": "https://localhost:8080/"
        },
        "outputId": "63630822-d7bb-4ce8-a892-e4842faa970d"
      },
      "source": [
        "total_tp = tp1 + tp2 + tp3\n",
        "total_fp = fp1 + fp2 + fp3 \n",
        "total_fn = fn1 + fn2 + fn3 \n",
        "micro_ap = float(total_tp)/(total_tp + total_fp)\n",
        "micro_ar = float(total_tp)/(total_tp + total_fn)\n",
        "print('(micro_ap, micro_ar) = (%.2f, %.2f)' % (micro_ap, micro_ar))"
      ],
      "execution_count": null,
      "outputs": [
        {
          "output_type": "stream",
          "text": [
            "(micro_ap, micro_ar) = (0.79, 0.75)\n"
          ],
          "name": "stdout"
        }
      ]
    },
    {
      "cell_type": "code",
      "metadata": {
        "id": "_Xp-8IH5zrN5",
        "colab": {
          "base_uri": "https://localhost:8080/"
        },
        "outputId": "fdc56118-722d-4206-8674-708986e466c1"
      },
      "source": [
        "macro_ap = (P1 + P2 + P3)/3\n",
        "macro_ar = (R1 + R2 + R3)/3\n",
        "print('(macro_ap, macro_ap) = (%.2f, %.2f)' % (macro_ap, macro_ap))"
      ],
      "execution_count": null,
      "outputs": [
        {
          "output_type": "stream",
          "text": [
            "(macro_ap, macro_ap) = (0.77, 0.77)\n"
          ],
          "name": "stdout"
        }
      ]
    }
  ]
}